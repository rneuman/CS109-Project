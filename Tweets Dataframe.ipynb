{
 "cells": [
  {
   "cell_type": "code",
   "execution_count": 2,
   "metadata": {
    "collapsed": false
   },
   "outputs": [],
   "source": [
    "#read tweets text file into python\n",
    "file = open('tweets.txt', 'r')\n",
    "data = file.read()"
   ]
  },
  {
   "cell_type": "code",
   "execution_count": 3,
   "metadata": {
    "collapsed": false
   },
   "outputs": [],
   "source": [
    "#split the text file into a list of tweets\n",
    "newdata = data.split('\\n')"
   ]
  },
  {
   "cell_type": "code",
   "execution_count": 4,
   "metadata": {
    "collapsed": false
   },
   "outputs": [],
   "source": [
    "#at this point the tweets are represented as strings, so we use json.loads to convert them to dictionaries\n",
    "# import simplejson\n",
    "# tweetlist=[]\n",
    "# for tweet in newdata[0:275000]:\n",
    "#     tweetlist.append(simplejson.loads(tweet))"
   ]
  },
  {
   "cell_type": "code",
   "execution_count": 5,
   "metadata": {
    "collapsed": false
   },
   "outputs": [],
   "source": [
    "import simplejson\n",
    "tweetlist=[]\n",
    "for tweet in newdata[0:30]:\n",
    "        tweetlist.append(simplejson.loads(tweet))"
   ]
  },
  {
   "cell_type": "code",
   "execution_count": 6,
   "metadata": {
    "collapsed": false
   },
   "outputs": [],
   "source": [
    "tweets = []\n",
    "for i in tweetlist:\n",
    "    if i['text'][0:4] != 'RT @':\n",
    "        tweets.append(i)"
   ]
  },
  {
   "cell_type": "code",
   "execution_count": 7,
   "metadata": {
    "collapsed": true
   },
   "outputs": [],
   "source": [
    "#http://www.slate.com/blogs/lexicon_valley/2013/09/11/top_swear_words_most_popular_curse_words_on_facebook.html\n",
    "swearlist=['fuck', 'FUCK', 'Fuck', 'shit', 'SHIT', 'Shit', 'bitch', 'BITCH', 'Bitch', 'damn', 'DAMN','Damn','dick','DICK','Dick', 'crap', 'CRAP', 'Crap', 'fag','FAG','Fag','piss','Piss', 'PISS','pussy', 'PUSSY','Pussy', 'asshole','ASSHOLE','Asshole','slut','SLUT','Slut', 'cock','COCK','Cock','darn','DARN','Darn','douche','DOUCHE','Douche','bastard','BASTARD', 'Bastard']"
   ]
  },
  {
   "cell_type": "code",
   "execution_count": 11,
   "metadata": {
    "collapsed": false
   },
   "outputs": [],
   "source": [
    "emoji_key = pd.read_csv('emojis.txt', encoding='utf-8', index_col=0)\n",
    "emojilist = list(emoji_key.index)"
   ]
  },
  {
   "cell_type": "code",
   "execution_count": 12,
   "metadata": {
    "collapsed": false
   },
   "outputs": [],
   "source": [
    "emoticonlist = [u':‑)', u':)', u':D', u':o)', u':]', u':3', u':c)', u':> =]', u'8)', u'=)', u':}', u':^)', u':っ)', u':‑D', u'8‑D', u'8D', u'x‑D', u'xD', u'X‑D', u'XD', u'=‑D', u'=D', u'=‑3', u'=3', u'B^D', u':-))',u'>:[', u':‑(', u':(', u':‑c', u':c', u':‑<', u':っC', u':<', u':‑[', u':[', u':{', u';(', u':-||', u':@', u'>:(', u':\\'‑(', u':\\'(', u':\\'‑)', u':\\')', u'<3', u'</3']"
   ]
  },
  {
   "cell_type": "code",
   "execution_count": 43,
   "metadata": {
    "collapsed": false
   },
   "outputs": [],
   "source": [
    "import pandas as pd\n",
    "\n",
    "#create function that takes in list of tweets and outputs pandas dataframe\n",
    "def toDataFrame(tweets):\n",
    "\n",
    "    DataSet = pd.DataFrame()\n",
    "\n",
    "    DataSet['tweetID'] = [tweet[\"id\"] for tweet in tweets]\n",
    "    DataSet[\"text\"] = [tweet[\"text\"] for tweet in tweets]\n",
    "    DataSet[\"hashtags\"] = [([tw[\"text\"] for tw in tweet[\"entities\"][\"hashtags\"]] if len(tweet[\"entities\"][\"hashtags\"]) >=1 else None) for tweet in tweets]\n",
    "    DataSet[\"hashtag_count\"] = [len(tweet[\"entities\"][\"hashtags\"]) for tweet in tweets]\n",
    "    DataSet[\"url_count\"] = [len(tweet[\"entities\"][\"urls\"]) for tweet in tweets]\n",
    "    DataSet[\"favorite_count\"] = [tweet[\"favorite_count\"] for tweet in tweets]\n",
    "    DataSet[\"retweet_count\"] = [tweet[\"retweet_count\"] for tweet in tweets]\n",
    "    DataSet[\"followers_count\"] = [tweet[\"user\"][\"followers_count\"] for tweet in tweets]\n",
    "    DataSet[\"swear_count\"] = [len([i for i in swearlist if i in tweet[\"text\"]]) for tweet in tweets]\n",
    "    #DataSet[\"emoji_count\"] = [len([i for i in emojilist if i in tweet[\"text\"]]) for tweet in tweets]\n",
    "    DataSet[\"emoji_count\"] = [sum([tweet[\"text\"].count(i) for i in emojilist]) for tweet in tweets]\n",
    "    DataSet[\"emoticon_count\"] = [sum([tweet[\"text\"].count(i) for i in emoticonlist]) for tweet in tweets]\n",
    "    #DataSet[\"retweet\"] = [(tweet[\"retweeted_status\"] if \"retweeted_status\" in tweet) for tweet in tweets]\n",
    "    DataSet[\"hillary\"] = [max([1 if i in tweet[\"text\"] else 0 for i in [\"Hillary\", \"hillary\", \"HILLARY\", \"Hilary\", \"hilary\", \"HILARY\", \"clinton\", \"Clinton\", \"CLINTON\"]]) for tweet in tweets]\n",
    "    DataSet[\"bernie\"] = [max([1 if i in tweet[\"text\"][0] else 0 for i in [\"Bernie\", \"bernie\", \"BERNIE\", \"Sanders\", \"sanders\", \"SANDERS\", \"Bern\", \"bern\", \"BERN\"]]) for tweet in tweets]\n",
    "    DataSet[\"martin\"] = [max([1 if i in tweet[\"text\"][0] else 0 for i in [\"Martin\", \"martin\", \"MARTIN\", \"Omalley\", \"OMalley\", \"omalley\", \"OMALLEY\", \"O'malley\", \"O'Malley\", \"o'malley\", \"O'MALLEY\"]]) for tweet in tweets]\n",
    "    \n",
    "    return DataSet\n",
    "\n",
    "tweetsdf = toDataFrame(tweets)\n",
    "\n",
    "\n",
    "tweetsdf.to_csv('TweetsDF.csv', encoding = 'utf-8')"
   ]
  },
  {
   "cell_type": "code",
   "execution_count": 44,
   "metadata": {
    "collapsed": false
   },
   "outputs": [
    {
     "data": {
      "text/html": [
       "<div>\n",
       "<table border=\"1\" class=\"dataframe\">\n",
       "  <thead>\n",
       "    <tr style=\"text-align: right;\">\n",
       "      <th></th>\n",
       "      <th>tweetID</th>\n",
       "      <th>text</th>\n",
       "      <th>hashtags</th>\n",
       "      <th>hashtag_count</th>\n",
       "      <th>url_count</th>\n",
       "      <th>favorite_count</th>\n",
       "      <th>retweet_count</th>\n",
       "      <th>followers_count</th>\n",
       "      <th>swear_count</th>\n",
       "      <th>emoji_count</th>\n",
       "      <th>emoticon_count</th>\n",
       "      <th>hillary</th>\n",
       "      <th>bernie</th>\n",
       "      <th>martin</th>\n",
       "    </tr>\n",
       "  </thead>\n",
       "  <tbody>\n",
       "    <tr>\n",
       "      <th>0</th>\n",
       "      <td>665775625974603776</td>\n",
       "      <td>As campaign focus turns to foreign policy, Cli...</td>\n",
       "      <td>None</td>\n",
       "      <td>0</td>\n",
       "      <td>1</td>\n",
       "      <td>1</td>\n",
       "      <td>0</td>\n",
       "      <td>5949</td>\n",
       "      <td>0</td>\n",
       "      <td>0</td>\n",
       "      <td>0</td>\n",
       "      <td>1</td>\n",
       "      <td>0</td>\n",
       "      <td>0</td>\n",
       "    </tr>\n",
       "    <tr>\n",
       "      <th>1</th>\n",
       "      <td>665775612733227008</td>\n",
       "      <td>Hillary Clinton's 10 Most Hawkish Moments From...</td>\n",
       "      <td>None</td>\n",
       "      <td>0</td>\n",
       "      <td>1</td>\n",
       "      <td>0</td>\n",
       "      <td>0</td>\n",
       "      <td>78</td>\n",
       "      <td>0</td>\n",
       "      <td>0</td>\n",
       "      <td>0</td>\n",
       "      <td>1</td>\n",
       "      <td>0</td>\n",
       "      <td>0</td>\n",
       "    </tr>\n",
       "    <tr>\n",
       "      <th>2</th>\n",
       "      <td>665775608123826177</td>\n",
       "      <td>Watch The Full Second Democratic Debate Here -...</td>\n",
       "      <td>None</td>\n",
       "      <td>0</td>\n",
       "      <td>1</td>\n",
       "      <td>0</td>\n",
       "      <td>0</td>\n",
       "      <td>156</td>\n",
       "      <td>0</td>\n",
       "      <td>0</td>\n",
       "      <td>0</td>\n",
       "      <td>0</td>\n",
       "      <td>0</td>\n",
       "      <td>0</td>\n",
       "    </tr>\n",
       "    <tr>\n",
       "      <th>3</th>\n",
       "      <td>665775602365018113</td>\n",
       "      <td>Clinton plays defense on Iraq, Wall Street at ...</td>\n",
       "      <td>[empresa]</td>\n",
       "      <td>1</td>\n",
       "      <td>1</td>\n",
       "      <td>0</td>\n",
       "      <td>0</td>\n",
       "      <td>725</td>\n",
       "      <td>0</td>\n",
       "      <td>0</td>\n",
       "      <td>0</td>\n",
       "      <td>1</td>\n",
       "      <td>0</td>\n",
       "      <td>0</td>\n",
       "    </tr>\n",
       "    <tr>\n",
       "      <th>4</th>\n",
       "      <td>665775598996852736</td>\n",
       "      <td>Democratic Candidates Respond to Paris Attacks...</td>\n",
       "      <td>[demdebate, Nigeria, Ghana, USA]</td>\n",
       "      <td>4</td>\n",
       "      <td>1</td>\n",
       "      <td>0</td>\n",
       "      <td>0</td>\n",
       "      <td>478</td>\n",
       "      <td>0</td>\n",
       "      <td>0</td>\n",
       "      <td>0</td>\n",
       "      <td>1</td>\n",
       "      <td>0</td>\n",
       "      <td>0</td>\n",
       "    </tr>\n",
       "    <tr>\n",
       "      <th>5</th>\n",
       "      <td>665775596983685120</td>\n",
       "      <td>#CNN Hillary Clinton at Democratic debate: ISI...</td>\n",
       "      <td>[CNN]</td>\n",
       "      <td>1</td>\n",
       "      <td>1</td>\n",
       "      <td>0</td>\n",
       "      <td>0</td>\n",
       "      <td>1587</td>\n",
       "      <td>0</td>\n",
       "      <td>0</td>\n",
       "      <td>0</td>\n",
       "      <td>1</td>\n",
       "      <td>0</td>\n",
       "      <td>0</td>\n",
       "    </tr>\n",
       "    <tr>\n",
       "      <th>6</th>\n",
       "      <td>665775595528192000</td>\n",
       "      <td>Democratic Candidates Respond to Paris Attacks...</td>\n",
       "      <td>[demdebate, Nigeria, Ghana, USA]</td>\n",
       "      <td>4</td>\n",
       "      <td>1</td>\n",
       "      <td>0</td>\n",
       "      <td>0</td>\n",
       "      <td>1894</td>\n",
       "      <td>0</td>\n",
       "      <td>0</td>\n",
       "      <td>0</td>\n",
       "      <td>1</td>\n",
       "      <td>0</td>\n",
       "      <td>0</td>\n",
       "    </tr>\n",
       "    <tr>\n",
       "      <th>7</th>\n",
       "      <td>665775590880907265</td>\n",
       "      <td>Both Hillary and Ronda got beat up tonight. Ba...</td>\n",
       "      <td>[DemDebate, UFC193]</td>\n",
       "      <td>2</td>\n",
       "      <td>0</td>\n",
       "      <td>6</td>\n",
       "      <td>2</td>\n",
       "      <td>486</td>\n",
       "      <td>0</td>\n",
       "      <td>0</td>\n",
       "      <td>0</td>\n",
       "      <td>1</td>\n",
       "      <td>0</td>\n",
       "      <td>0</td>\n",
       "    </tr>\n",
       "    <tr>\n",
       "      <th>8</th>\n",
       "      <td>665775588590776320</td>\n",
       "      <td>Democratic Candidates Respond to Paris Attacks...</td>\n",
       "      <td>[demdebate, Nigeria, Ghana, USA]</td>\n",
       "      <td>4</td>\n",
       "      <td>1</td>\n",
       "      <td>0</td>\n",
       "      <td>0</td>\n",
       "      <td>364</td>\n",
       "      <td>0</td>\n",
       "      <td>0</td>\n",
       "      <td>0</td>\n",
       "      <td>1</td>\n",
       "      <td>0</td>\n",
       "      <td>0</td>\n",
       "    </tr>\n",
       "    <tr>\n",
       "      <th>9</th>\n",
       "      <td>665775585046585345</td>\n",
       "      <td>Democratic Candidates Respond to Paris Attacks...</td>\n",
       "      <td>[demdebate, breakingnews, India]</td>\n",
       "      <td>3</td>\n",
       "      <td>1</td>\n",
       "      <td>0</td>\n",
       "      <td>0</td>\n",
       "      <td>1894</td>\n",
       "      <td>0</td>\n",
       "      <td>0</td>\n",
       "      <td>0</td>\n",
       "      <td>1</td>\n",
       "      <td>0</td>\n",
       "      <td>0</td>\n",
       "    </tr>\n",
       "    <tr>\n",
       "      <th>10</th>\n",
       "      <td>665775582899113984</td>\n",
       "      <td>Who Won The Democratic Debate? No Clear Victor...</td>\n",
       "      <td>None</td>\n",
       "      <td>0</td>\n",
       "      <td>1</td>\n",
       "      <td>0</td>\n",
       "      <td>0</td>\n",
       "      <td>81</td>\n",
       "      <td>0</td>\n",
       "      <td>0</td>\n",
       "      <td>0</td>\n",
       "      <td>1</td>\n",
       "      <td>0</td>\n",
       "      <td>0</td>\n",
       "    </tr>\n",
       "  </tbody>\n",
       "</table>\n",
       "</div>"
      ],
      "text/plain": [
       "               tweetID                                               text  \\\n",
       "0   665775625974603776  As campaign focus turns to foreign policy, Cli...   \n",
       "1   665775612733227008  Hillary Clinton's 10 Most Hawkish Moments From...   \n",
       "2   665775608123826177  Watch The Full Second Democratic Debate Here -...   \n",
       "3   665775602365018113  Clinton plays defense on Iraq, Wall Street at ...   \n",
       "4   665775598996852736  Democratic Candidates Respond to Paris Attacks...   \n",
       "5   665775596983685120  #CNN Hillary Clinton at Democratic debate: ISI...   \n",
       "6   665775595528192000  Democratic Candidates Respond to Paris Attacks...   \n",
       "7   665775590880907265  Both Hillary and Ronda got beat up tonight. Ba...   \n",
       "8   665775588590776320  Democratic Candidates Respond to Paris Attacks...   \n",
       "9   665775585046585345  Democratic Candidates Respond to Paris Attacks...   \n",
       "10  665775582899113984  Who Won The Democratic Debate? No Clear Victor...   \n",
       "\n",
       "                            hashtags  hashtag_count  url_count  \\\n",
       "0                               None              0          1   \n",
       "1                               None              0          1   \n",
       "2                               None              0          1   \n",
       "3                          [empresa]              1          1   \n",
       "4   [demdebate, Nigeria, Ghana, USA]              4          1   \n",
       "5                              [CNN]              1          1   \n",
       "6   [demdebate, Nigeria, Ghana, USA]              4          1   \n",
       "7                [DemDebate, UFC193]              2          0   \n",
       "8   [demdebate, Nigeria, Ghana, USA]              4          1   \n",
       "9   [demdebate, breakingnews, India]              3          1   \n",
       "10                              None              0          1   \n",
       "\n",
       "    favorite_count  retweet_count  followers_count  swear_count  emoji_count  \\\n",
       "0                1              0             5949            0            0   \n",
       "1                0              0               78            0            0   \n",
       "2                0              0              156            0            0   \n",
       "3                0              0              725            0            0   \n",
       "4                0              0              478            0            0   \n",
       "5                0              0             1587            0            0   \n",
       "6                0              0             1894            0            0   \n",
       "7                6              2              486            0            0   \n",
       "8                0              0              364            0            0   \n",
       "9                0              0             1894            0            0   \n",
       "10               0              0               81            0            0   \n",
       "\n",
       "    emoticon_count  hillary  bernie  martin  \n",
       "0                0        1       0       0  \n",
       "1                0        1       0       0  \n",
       "2                0        0       0       0  \n",
       "3                0        1       0       0  \n",
       "4                0        1       0       0  \n",
       "5                0        1       0       0  \n",
       "6                0        1       0       0  \n",
       "7                0        1       0       0  \n",
       "8                0        1       0       0  \n",
       "9                0        1       0       0  \n",
       "10               0        1       0       0  "
      ]
     },
     "execution_count": 44,
     "metadata": {},
     "output_type": "execute_result"
    }
   ],
   "source": [
    "tweetsdf"
   ]
  },
  {
   "cell_type": "code",
   "execution_count": 252,
   "metadata": {
    "collapsed": false
   },
   "outputs": [],
   "source": [
    "import pandas as pd\n",
    "\n",
    "#code to find defective rows (cases where tweet has been split over multiple rows and tweetID is not equal to the tweetID)\n",
    "newdf = pd.read_csv(\"finalsentimentedit.csv\")\n",
    "\n",
    "for k, i in zip(newdf[\"tweetID\"], newdf.index.values) :\n",
    "    if len(str(k)) != 8:\n",
    "        print k, i\n",
    "#manually went into excel and fixed these rows (~10-15 rows)"
   ]
  },
  {
   "cell_type": "code",
   "execution_count": 253,
   "metadata": {
    "collapsed": false
   },
   "outputs": [],
   "source": [
    "newdf[\"hillary\"]= [max([1 if i in j else 0 for i in [\"Hillary\", \"hillary\", \"HILLARY\", \"Hilary\", \"hilary\", \"HILARY\", \"clinton\", \"Clinton\", \"CLINTON\"]]) for j in newdf[\"text\"]]\n",
    "newdf[\"bernie\"] = [max([1 if i in j else 0 for i in [\"Bernie\", \"bernie\", \"BERNIE\", \"Sanders\", \"sanders\", \"SANDERS\", \"Bern\", \"bern\", \"BERN\"]]) for j in newdf[\"text\"]]\n",
    "newdf[\"martin\"] = [max([1 if i in j else 0 for i in [\"Martin\", \"martin\", \"MARTIN\", \"Omalley\", \"OMalley\", \"omalley\", \"OMALLEY\", \"O'malley\", \"O'Malley\", \"o'malley\", \"O'MALLEY\"]]) for j in newdf[\"text\"]]"
   ]
  },
  {
   "cell_type": "code",
   "execution_count": 254,
   "metadata": {
    "collapsed": false
   },
   "outputs": [],
   "source": [
    "# get list of column names to delete first column\n",
    "list(newdf.columns.values)\n",
    "# delete additional index column\n",
    "del newdf['Unnamed: 0']\n",
    "#newdf.head()"
   ]
  },
  {
   "cell_type": "code",
   "execution_count": 256,
   "metadata": {
    "collapsed": false
   },
   "outputs": [
    {
     "name": "stdout",
     "output_type": "stream",
     "text": [
      "22076\n",
      "106497\n"
     ]
    }
   ],
   "source": [
    "#look at percentage of tweets that talk about more than one candidate; 22076/106497 ~20%\n",
    "counter=0\n",
    "total=0\n",
    "for h, b, m in zip(newdf[\"hillary\"], newdf[\"bernie\"], newdf[\"martin\"]):\n",
    "    total+=1\n",
    "    if h+b+m > 1:\n",
    "        #print h+b+m\n",
    "        counter +=1\n",
    "print counter\n",
    "print total"
   ]
  },
  {
   "cell_type": "code",
   "execution_count": 257,
   "metadata": {
    "collapsed": true
   },
   "outputs": [],
   "source": [
    "#remove tweets that refer to multiple candidates and save as new dataframe\n",
    "finaldf=newdf[newdf[\"hillary\"] + newdf[\"bernie\"] + newdf[\"martin\"] <= 1]"
   ]
  },
  {
   "cell_type": "code",
   "execution_count": 259,
   "metadata": {
    "collapsed": false
   },
   "outputs": [
    {
     "data": {
      "text/plain": [
       "84421"
      ]
     },
     "execution_count": 259,
     "metadata": {},
     "output_type": "execute_result"
    }
   ],
   "source": [
    "len(finaldf[\"bernie\"])"
   ]
  },
  {
   "cell_type": "code",
   "execution_count": 261,
   "metadata": {
    "collapsed": false
   },
   "outputs": [
    {
     "name": "stdout",
     "output_type": "stream",
     "text": [
      "0\n",
      "84421\n"
     ]
    }
   ],
   "source": [
    "#check to make sure all tweets that referred to multiple candidates were removed\n",
    "total=0\n",
    "counter=0\n",
    "for h, b, m in zip(finaldf[\"hillary\"], finaldf[\"bernie\"], finaldf[\"martin\"]):\n",
    "    total+=1\n",
    "    if h+b+m > 1:\n",
    "        counter +=1\n",
    "print counter\n",
    "print total"
   ]
  },
  {
   "cell_type": "code",
   "execution_count": 264,
   "metadata": {
    "collapsed": true
   },
   "outputs": [],
   "source": [
    "finaldf.to_csv('finaldf.csv')"
   ]
  }
 ],
 "metadata": {
  "kernelspec": {
   "display_name": "Python 2",
   "language": "python",
   "name": "python2"
  },
  "language_info": {
   "codemirror_mode": {
    "name": "ipython",
    "version": 2
   },
   "file_extension": ".py",
   "mimetype": "text/x-python",
   "name": "python",
   "nbconvert_exporter": "python",
   "pygments_lexer": "ipython2",
   "version": "2.7.10"
  }
 },
 "nbformat": 4,
 "nbformat_minor": 0
}
