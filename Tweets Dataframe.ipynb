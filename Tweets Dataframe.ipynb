{
 "cells": [
  {
   "cell_type": "code",
   "execution_count": 2,
   "metadata": {
    "collapsed": false
   },
   "outputs": [],
   "source": [
    "#read tweets text file into python\n",
    "file = open('tweets.txt', 'r')\n",
    "data = file.read()"
   ]
  },
  {
   "cell_type": "code",
   "execution_count": 3,
   "metadata": {
    "collapsed": false
   },
   "outputs": [],
   "source": [
    "#split the text file into a list of tweets\n",
    "newdata = data.split('\\n')"
   ]
  },
  {
   "cell_type": "code",
   "execution_count": 4,
   "metadata": {
    "collapsed": false
   },
   "outputs": [],
   "source": [
    "#at this point the tweets are represented as strings, so we use json.loads to convert them to dictionaries\n",
    "import simplejson\n",
    "tweetlist=[]\n",
    "for tweet in newdata[0:275000]:\n",
    "    tweetlist.append(simplejson.loads(tweet))"
   ]
  },
  {
   "cell_type": "code",
   "execution_count": 6,
   "metadata": {
    "collapsed": false
   },
   "outputs": [],
   "source": [
    "#get rid of all retweets, which always start with \"RT @\"\n",
    "tweets = []\n",
    "for i in tweetlist:\n",
    "    if i['text'][0:4] != 'RT @':\n",
    "        tweets.append(i)"
   ]
  },
  {
   "cell_type": "code",
   "execution_count": 7,
   "metadata": {
    "collapsed": true
   },
   "outputs": [],
   "source": [
    "#create list of swear words to search for in tweets\n",
    "#source of swear word list: http://www.slate.com/blogs/lexicon_valley/2013/09/11/top_swear_words_most_popular_curse_words_on_facebook.html\n",
    "swearlist=['fuck', 'FUCK', 'Fuck', 'shit', 'SHIT', 'Shit', 'bitch', 'BITCH', 'Bitch', 'damn', 'DAMN','Damn','dick','DICK','Dick', 'crap', 'CRAP', 'Crap', 'fag','FAG','Fag','piss','Piss', 'PISS','pussy', 'PUSSY','Pussy', 'asshole','ASSHOLE','Asshole','slut','SLUT','Slut', 'cock','COCK','Cock','darn','DARN','Darn','douche','DOUCHE','Douche','bastard','BASTARD', 'Bastard']"
   ]
  },
  {
   "cell_type": "code",
   "execution_count": 11,
   "metadata": {
    "collapsed": false
   },
   "outputs": [],
   "source": [
    "#create list of emojis to search for in tweets\n",
    "#source of emoji list: https://github.com/seandolinar/socialmediaparse/blob/master/data/emoji_table.txt\n",
    "emoji_key = pd.read_csv('emojis.txt', encoding='utf-8', index_col=0)\n",
    "emojilist = list(emoji_key.index)"
   ]
  },
  {
   "cell_type": "code",
   "execution_count": 12,
   "metadata": {
    "collapsed": false
   },
   "outputs": [],
   "source": [
    "#create list of emoticons to search for in tweets\n",
    "#source of emoticon list: most of \"Western\" section of https://en.wikipedia.org/wiki/List_of_emoticons\n",
    "emoticonlist = [u':‑)', u':)', u':D', u':o)', u':]', u':3', u':c)', u':> =]', u'8)', u'=)', u':}', u':^)', u':っ)', u':‑D', u'8‑D', u'8D', u'x‑D', u'xD', u'X‑D', u'XD', u'=‑D', u'=D', u'=‑3', u'=3', u'B^D', u':-))',u'>:[', u':‑(', u':(', u':‑c', u':c', u':‑<', u':っC', u':<', u':‑[', u':[', u':{', u';(', u':-||', u':@', u'>:(', u':\\'‑(', u':\\'(', u':\\'‑)', u':\\')', u'<3', u'</3']"
   ]
  },
  {
   "cell_type": "code",
   "execution_count": 43,
   "metadata": {
    "collapsed": false
   },
   "outputs": [],
   "source": [
    "import pandas as pd\n",
    "\n",
    "#create function that takes in list of tweets and outputs pandas dataframe\n",
    "#columns tweetID, text, favorite_count, retweet_count, and followers_count come directly from twitter data\n",
    "#column hashtags is created by creating a list of hashtags for each tweet\n",
    "#all count oolumns are created by summing up the number of occurrences of the given features\n",
    "#swear_count, emoji_count, and emotion_count columns are created by searching for items from above lists in each tweet\n",
    "#hillary, bernie, and martin columns are the response variables and are created by storing a 1 if the candidate is mentioned in that tweet, and a 0 otherwise\n",
    "def toDataFrame(tweets):\n",
    "\n",
    "    DataSet = pd.DataFrame()\n",
    "\n",
    "    DataSet['tweetID'] = [tweet[\"id\"] for tweet in tweets]\n",
    "    DataSet[\"text\"] = [tweet[\"text\"] for tweet in tweets]\n",
    "    DataSet[\"hashtags\"] = [([tw[\"text\"] for tw in tweet[\"entities\"][\"hashtags\"]] if len(tweet[\"entities\"][\"hashtags\"]) >=1 else None) for tweet in tweets]\n",
    "    DataSet[\"hashtag_count\"] = [len(tweet[\"entities\"][\"hashtags\"]) for tweet in tweets]\n",
    "    DataSet[\"url_count\"] = [len(tweet[\"entities\"][\"urls\"]) for tweet in tweets]\n",
    "    DataSet[\"favorite_count\"] = [tweet[\"favorite_count\"] for tweet in tweets]\n",
    "    DataSet[\"retweet_count\"] = [tweet[\"retweet_count\"] for tweet in tweets]\n",
    "    DataSet[\"followers_count\"] = [tweet[\"user\"][\"followers_count\"] for tweet in tweets]\n",
    "    DataSet[\"swear_count\"] = [len([i for i in swearlist if i in tweet[\"text\"]]) for tweet in tweets]\n",
    "    DataSet[\"emoji_count\"] = [sum([tweet[\"text\"].count(i) for i in emojilist]) for tweet in tweets]\n",
    "    DataSet[\"emoticon_count\"] = [sum([tweet[\"text\"].count(i) for i in emoticonlist]) for tweet in tweets]\n",
    "    DataSet[\"hillary\"] = [max([1 if i in tweet[\"text\"] else 0 for i in [\"Hillary\", \"hillary\", \"HILLARY\", \"Hilary\", \"hilary\", \"HILARY\", \"clinton\", \"Clinton\", \"CLINTON\"]]) for tweet in tweets]\n",
    "    DataSet[\"bernie\"] = [max([1 if i in tweet[\"text\"][0] else 0 for i in [\"Bernie\", \"bernie\", \"BERNIE\", \"Sanders\", \"sanders\", \"SANDERS\", \"Bern\", \"bern\", \"BERN\"]]) for tweet in tweets]\n",
    "    DataSet[\"martin\"] = [max([1 if i in tweet[\"text\"][0] else 0 for i in [\"Martin\", \"martin\", \"MARTIN\", \"Omalley\", \"OMalley\", \"omalley\", \"OMALLEY\", \"O'malley\", \"O'Malley\", \"o'malley\", \"O'MALLEY\"]]) for tweet in tweets]\n",
    "    \n",
    "    return DataSet\n",
    "\n",
    "#run function on our list of tweets\n",
    "tweetsdf = toDataFrame(tweets)\n",
    "\n",
    "#save dataframe to csv file for ease of use in the future\n",
    "tweetsdf.to_csv('TweetsDF.csv', encoding = 'utf-8')"
   ]
  },
  {
   "cell_type": "code",
   "execution_count": 44,
   "metadata": {
    "collapsed": false
   },
   "outputs": [
    {
     "data": {
      "text/html": [
       "<div>\n",
       "<table border=\"1\" class=\"dataframe\">\n",
       "  <thead>\n",
       "    <tr style=\"text-align: right;\">\n",
       "      <th></th>\n",
       "      <th>tweetID</th>\n",
       "      <th>text</th>\n",
       "      <th>hashtags</th>\n",
       "      <th>hashtag_count</th>\n",
       "      <th>url_count</th>\n",
       "      <th>favorite_count</th>\n",
       "      <th>retweet_count</th>\n",
       "      <th>followers_count</th>\n",
       "      <th>swear_count</th>\n",
       "      <th>emoji_count</th>\n",
       "      <th>emoticon_count</th>\n",
       "      <th>hillary</th>\n",
       "      <th>bernie</th>\n",
       "      <th>martin</th>\n",
       "    </tr>\n",
       "  </thead>\n",
       "  <tbody>\n",
       "    <tr>\n",
       "      <th>0</th>\n",
       "      <td>665775625974603776</td>\n",
       "      <td>As campaign focus turns to foreign policy, Cli...</td>\n",
       "      <td>None</td>\n",
       "      <td>0</td>\n",
       "      <td>1</td>\n",
       "      <td>1</td>\n",
       "      <td>0</td>\n",
       "      <td>5949</td>\n",
       "      <td>0</td>\n",
       "      <td>0</td>\n",
       "      <td>0</td>\n",
       "      <td>1</td>\n",
       "      <td>0</td>\n",
       "      <td>0</td>\n",
       "    </tr>\n",
       "    <tr>\n",
       "      <th>1</th>\n",
       "      <td>665775612733227008</td>\n",
       "      <td>Hillary Clinton's 10 Most Hawkish Moments From...</td>\n",
       "      <td>None</td>\n",
       "      <td>0</td>\n",
       "      <td>1</td>\n",
       "      <td>0</td>\n",
       "      <td>0</td>\n",
       "      <td>78</td>\n",
       "      <td>0</td>\n",
       "      <td>0</td>\n",
       "      <td>0</td>\n",
       "      <td>1</td>\n",
       "      <td>0</td>\n",
       "      <td>0</td>\n",
       "    </tr>\n",
       "    <tr>\n",
       "      <th>2</th>\n",
       "      <td>665775608123826177</td>\n",
       "      <td>Watch The Full Second Democratic Debate Here -...</td>\n",
       "      <td>None</td>\n",
       "      <td>0</td>\n",
       "      <td>1</td>\n",
       "      <td>0</td>\n",
       "      <td>0</td>\n",
       "      <td>156</td>\n",
       "      <td>0</td>\n",
       "      <td>0</td>\n",
       "      <td>0</td>\n",
       "      <td>0</td>\n",
       "      <td>0</td>\n",
       "      <td>0</td>\n",
       "    </tr>\n",
       "    <tr>\n",
       "      <th>3</th>\n",
       "      <td>665775602365018113</td>\n",
       "      <td>Clinton plays defense on Iraq, Wall Street at ...</td>\n",
       "      <td>[empresa]</td>\n",
       "      <td>1</td>\n",
       "      <td>1</td>\n",
       "      <td>0</td>\n",
       "      <td>0</td>\n",
       "      <td>725</td>\n",
       "      <td>0</td>\n",
       "      <td>0</td>\n",
       "      <td>0</td>\n",
       "      <td>1</td>\n",
       "      <td>0</td>\n",
       "      <td>0</td>\n",
       "    </tr>\n",
       "    <tr>\n",
       "      <th>4</th>\n",
       "      <td>665775598996852736</td>\n",
       "      <td>Democratic Candidates Respond to Paris Attacks...</td>\n",
       "      <td>[demdebate, Nigeria, Ghana, USA]</td>\n",
       "      <td>4</td>\n",
       "      <td>1</td>\n",
       "      <td>0</td>\n",
       "      <td>0</td>\n",
       "      <td>478</td>\n",
       "      <td>0</td>\n",
       "      <td>0</td>\n",
       "      <td>0</td>\n",
       "      <td>1</td>\n",
       "      <td>0</td>\n",
       "      <td>0</td>\n",
       "    </tr>\n",
       "    <tr>\n",
       "      <th>5</th>\n",
       "      <td>665775596983685120</td>\n",
       "      <td>#CNN Hillary Clinton at Democratic debate: ISI...</td>\n",
       "      <td>[CNN]</td>\n",
       "      <td>1</td>\n",
       "      <td>1</td>\n",
       "      <td>0</td>\n",
       "      <td>0</td>\n",
       "      <td>1587</td>\n",
       "      <td>0</td>\n",
       "      <td>0</td>\n",
       "      <td>0</td>\n",
       "      <td>1</td>\n",
       "      <td>0</td>\n",
       "      <td>0</td>\n",
       "    </tr>\n",
       "    <tr>\n",
       "      <th>6</th>\n",
       "      <td>665775595528192000</td>\n",
       "      <td>Democratic Candidates Respond to Paris Attacks...</td>\n",
       "      <td>[demdebate, Nigeria, Ghana, USA]</td>\n",
       "      <td>4</td>\n",
       "      <td>1</td>\n",
       "      <td>0</td>\n",
       "      <td>0</td>\n",
       "      <td>1894</td>\n",
       "      <td>0</td>\n",
       "      <td>0</td>\n",
       "      <td>0</td>\n",
       "      <td>1</td>\n",
       "      <td>0</td>\n",
       "      <td>0</td>\n",
       "    </tr>\n",
       "    <tr>\n",
       "      <th>7</th>\n",
       "      <td>665775590880907265</td>\n",
       "      <td>Both Hillary and Ronda got beat up tonight. Ba...</td>\n",
       "      <td>[DemDebate, UFC193]</td>\n",
       "      <td>2</td>\n",
       "      <td>0</td>\n",
       "      <td>6</td>\n",
       "      <td>2</td>\n",
       "      <td>486</td>\n",
       "      <td>0</td>\n",
       "      <td>0</td>\n",
       "      <td>0</td>\n",
       "      <td>1</td>\n",
       "      <td>0</td>\n",
       "      <td>0</td>\n",
       "    </tr>\n",
       "    <tr>\n",
       "      <th>8</th>\n",
       "      <td>665775588590776320</td>\n",
       "      <td>Democratic Candidates Respond to Paris Attacks...</td>\n",
       "      <td>[demdebate, Nigeria, Ghana, USA]</td>\n",
       "      <td>4</td>\n",
       "      <td>1</td>\n",
       "      <td>0</td>\n",
       "      <td>0</td>\n",
       "      <td>364</td>\n",
       "      <td>0</td>\n",
       "      <td>0</td>\n",
       "      <td>0</td>\n",
       "      <td>1</td>\n",
       "      <td>0</td>\n",
       "      <td>0</td>\n",
       "    </tr>\n",
       "    <tr>\n",
       "      <th>9</th>\n",
       "      <td>665775585046585345</td>\n",
       "      <td>Democratic Candidates Respond to Paris Attacks...</td>\n",
       "      <td>[demdebate, breakingnews, India]</td>\n",
       "      <td>3</td>\n",
       "      <td>1</td>\n",
       "      <td>0</td>\n",
       "      <td>0</td>\n",
       "      <td>1894</td>\n",
       "      <td>0</td>\n",
       "      <td>0</td>\n",
       "      <td>0</td>\n",
       "      <td>1</td>\n",
       "      <td>0</td>\n",
       "      <td>0</td>\n",
       "    </tr>\n",
       "    <tr>\n",
       "      <th>10</th>\n",
       "      <td>665775582899113984</td>\n",
       "      <td>Who Won The Democratic Debate? No Clear Victor...</td>\n",
       "      <td>None</td>\n",
       "      <td>0</td>\n",
       "      <td>1</td>\n",
       "      <td>0</td>\n",
       "      <td>0</td>\n",
       "      <td>81</td>\n",
       "      <td>0</td>\n",
       "      <td>0</td>\n",
       "      <td>0</td>\n",
       "      <td>1</td>\n",
       "      <td>0</td>\n",
       "      <td>0</td>\n",
       "    </tr>\n",
       "  </tbody>\n",
       "</table>\n",
       "</div>"
      ],
      "text/plain": [
       "               tweetID                                               text  \\\n",
       "0   665775625974603776  As campaign focus turns to foreign policy, Cli...   \n",
       "1   665775612733227008  Hillary Clinton's 10 Most Hawkish Moments From...   \n",
       "2   665775608123826177  Watch The Full Second Democratic Debate Here -...   \n",
       "3   665775602365018113  Clinton plays defense on Iraq, Wall Street at ...   \n",
       "4   665775598996852736  Democratic Candidates Respond to Paris Attacks...   \n",
       "5   665775596983685120  #CNN Hillary Clinton at Democratic debate: ISI...   \n",
       "6   665775595528192000  Democratic Candidates Respond to Paris Attacks...   \n",
       "7   665775590880907265  Both Hillary and Ronda got beat up tonight. Ba...   \n",
       "8   665775588590776320  Democratic Candidates Respond to Paris Attacks...   \n",
       "9   665775585046585345  Democratic Candidates Respond to Paris Attacks...   \n",
       "10  665775582899113984  Who Won The Democratic Debate? No Clear Victor...   \n",
       "\n",
       "                            hashtags  hashtag_count  url_count  \\\n",
       "0                               None              0          1   \n",
       "1                               None              0          1   \n",
       "2                               None              0          1   \n",
       "3                          [empresa]              1          1   \n",
       "4   [demdebate, Nigeria, Ghana, USA]              4          1   \n",
       "5                              [CNN]              1          1   \n",
       "6   [demdebate, Nigeria, Ghana, USA]              4          1   \n",
       "7                [DemDebate, UFC193]              2          0   \n",
       "8   [demdebate, Nigeria, Ghana, USA]              4          1   \n",
       "9   [demdebate, breakingnews, India]              3          1   \n",
       "10                              None              0          1   \n",
       "\n",
       "    favorite_count  retweet_count  followers_count  swear_count  emoji_count  \\\n",
       "0                1              0             5949            0            0   \n",
       "1                0              0               78            0            0   \n",
       "2                0              0              156            0            0   \n",
       "3                0              0              725            0            0   \n",
       "4                0              0              478            0            0   \n",
       "5                0              0             1587            0            0   \n",
       "6                0              0             1894            0            0   \n",
       "7                6              2              486            0            0   \n",
       "8                0              0              364            0            0   \n",
       "9                0              0             1894            0            0   \n",
       "10               0              0               81            0            0   \n",
       "\n",
       "    emoticon_count  hillary  bernie  martin  \n",
       "0                0        1       0       0  \n",
       "1                0        1       0       0  \n",
       "2                0        0       0       0  \n",
       "3                0        1       0       0  \n",
       "4                0        1       0       0  \n",
       "5                0        1       0       0  \n",
       "6                0        1       0       0  \n",
       "7                0        1       0       0  \n",
       "8                0        1       0       0  \n",
       "9                0        1       0       0  \n",
       "10               0        1       0       0  "
      ]
     },
     "execution_count": 44,
     "metadata": {},
     "output_type": "execute_result"
    }
   ],
   "source": [
    "tweetsdf"
   ]
  },
  {
   "cell_type": "code",
   "execution_count": 1,
   "metadata": {
    "collapsed": false
   },
   "outputs": [
    {
     "name": "stderr",
     "output_type": "stream",
     "text": [
      "/Users/rneuman/anaconda/lib/python2.7/site-packages/pandas/io/parsers.py:1170: DtypeWarning: Columns (1) have mixed types. Specify dtype option on import or set low_memory=False.\n",
      "  data = self._reader.read(nrows)\n"
     ]
    }
   ],
   "source": [
    "#read in csv with dataframe that already has sentiment scores added in\n",
    "newdf = pd.read_csv(\"finalsentimentedit.csv\")\n",
    "\n",
    "#code to find defective rows (cases where tweet has been split over multiple rows and tweetID is not equal to the tweetID)\n",
    "for k, i in zip(newdf[\"tweetID\"], newdf.index.values) :\n",
    "    if len(str(k)) != 8:\n",
    "        print k, i\n",
    "#manually went into excel and fixed these rows (~10-15 rows)"
   ]
  },
  {
   "cell_type": "code",
   "execution_count": 2,
   "metadata": {
    "collapsed": false
   },
   "outputs": [],
   "source": [
    "#the csv file for newdf was created before response variables were added in, so they are added in here now\n",
    "newdf[\"hillary\"]= [max([1 if i in j else 0 for i in [\"Hillary\", \"hillary\", \"HILLARY\", \"Hilary\", \"hilary\", \"HILARY\", \"clinton\", \"Clinton\", \"CLINTON\"]]) for j in newdf[\"text\"]]\n",
    "newdf[\"bernie\"] = [max([1 if i in j else 0 for i in [\"Bernie\", \"bernie\", \"BERNIE\", \"Sanders\", \"sanders\", \"SANDERS\", \"Bern\", \"bern\", \"BERN\"]]) for j in newdf[\"text\"]]\n",
    "newdf[\"martin\"] = [max([1 if i in j else 0 for i in [\"Martin\", \"martin\", \"MARTIN\", \"Omalley\", \"OMalley\", \"omalley\", \"OMALLEY\", \"O'malley\", \"O'Malley\", \"o'malley\", \"O'MALLEY\"]]) for j in newdf[\"text\"]]"
   ]
  },
  {
   "cell_type": "code",
   "execution_count": 3,
   "metadata": {
    "collapsed": false
   },
   "outputs": [],
   "source": [
    "# get list of column names to delete first column\n",
    "list(newdf.columns.values)\n",
    "\n",
    "# delete additional index column\n",
    "del newdf['Unnamed: 0']"
   ]
  },
  {
   "cell_type": "code",
   "execution_count": 4,
   "metadata": {
    "collapsed": false
   },
   "outputs": [
    {
     "name": "stdout",
     "output_type": "stream",
     "text": [
      "22076\n",
      "106497\n"
     ]
    }
   ],
   "source": [
    "#look at percentage of tweets that talk about more than one candidate; 22076/106497 ~20%\n",
    "counter=0\n",
    "total=0\n",
    "for h, b, m in zip(newdf[\"hillary\"], newdf[\"bernie\"], newdf[\"martin\"]):\n",
    "    total+=1\n",
    "    if h+b+m > 1:\n",
    "        #print h+b+m\n",
    "        counter +=1\n",
    "print counter\n",
    "print total"
   ]
  },
  {
   "cell_type": "code",
   "execution_count": 5,
   "metadata": {
    "collapsed": true
   },
   "outputs": [],
   "source": [
    "#remove tweets that refer to multiple candidates and save as new dataframe\n",
    "finaldf=newdf[newdf[\"hillary\"] + newdf[\"bernie\"] + newdf[\"martin\"] <= 1]"
   ]
  },
  {
   "cell_type": "code",
   "execution_count": 6,
   "metadata": {
    "collapsed": false
   },
   "outputs": [
    {
     "data": {
      "text/plain": [
       "84421"
      ]
     },
     "execution_count": 6,
     "metadata": {},
     "output_type": "execute_result"
    }
   ],
   "source": [
    "len(finaldf[\"bernie\"])"
   ]
  },
  {
   "cell_type": "code",
   "execution_count": 7,
   "metadata": {
    "collapsed": false
   },
   "outputs": [
    {
     "name": "stdout",
     "output_type": "stream",
     "text": [
      "0\n",
      "84421\n"
     ]
    }
   ],
   "source": [
    "#check to make sure all tweets that referred to multiple candidates were removed\n",
    "total=0\n",
    "counter=0\n",
    "for h, b, m in zip(finaldf[\"hillary\"], finaldf[\"bernie\"], finaldf[\"martin\"]):\n",
    "    total+=1\n",
    "    if h+b+m > 1:\n",
    "        counter +=1\n",
    "print counter\n",
    "print total"
   ]
  },
  {
   "cell_type": "code",
   "execution_count": 8,
   "metadata": {
    "collapsed": true
   },
   "outputs": [],
   "source": [
    "#import final modified dataframe from csv\n",
    "finaldf.to_csv('finaldf.csv')"
   ]
  },
  {
   "cell_type": "code",
   "execution_count": 9,
   "metadata": {
    "collapsed": true
   },
   "outputs": [],
   "source": [
    "import numpy as np\n",
    "import statsmodels.api as sm\n",
    "import matplotlib.pyplot as plt\n",
    "from patsy import dmatrices\n",
    "from sklearn.linear_model import LogisticRegression\n",
    "from sklearn.cross_validation import train_test_split\n",
    "from sklearn import metrics\n",
    "from sklearn.cross_validation import cross_val_score"
   ]
  },
  {
   "cell_type": "code",
   "execution_count": 10,
   "metadata": {
    "collapsed": false
   },
   "outputs": [
    {
     "data": {
      "text/html": [
       "<div>\n",
       "<table border=\"1\" class=\"dataframe\">\n",
       "  <thead>\n",
       "    <tr style=\"text-align: right;\">\n",
       "      <th></th>\n",
       "      <th>tweetID</th>\n",
       "      <th>text</th>\n",
       "      <th>hashtags</th>\n",
       "      <th>hashtag_count</th>\n",
       "      <th>url_count</th>\n",
       "      <th>favorite_count</th>\n",
       "      <th>retweet_count</th>\n",
       "      <th>followers_count</th>\n",
       "      <th>swear_count</th>\n",
       "      <th>emoji_count</th>\n",
       "      <th>emoticon_count</th>\n",
       "      <th>sentiment</th>\n",
       "      <th>sentiment_var</th>\n",
       "      <th>hillary</th>\n",
       "      <th>bernie</th>\n",
       "      <th>martin</th>\n",
       "    </tr>\n",
       "  </thead>\n",
       "  <tbody>\n",
       "    <tr>\n",
       "      <th>0</th>\n",
       "      <td>6.66E+17</td>\n",
       "      <td>As campaign focus turns to foreign policy, Cli...</td>\n",
       "      <td>NaN</td>\n",
       "      <td>0</td>\n",
       "      <td>1</td>\n",
       "      <td>1</td>\n",
       "      <td>0</td>\n",
       "      <td>5949</td>\n",
       "      <td>0</td>\n",
       "      <td>0</td>\n",
       "      <td>0</td>\n",
       "      <td>6.135000</td>\n",
       "      <td>0.015075</td>\n",
       "      <td>1</td>\n",
       "      <td>0</td>\n",
       "      <td>0</td>\n",
       "    </tr>\n",
       "    <tr>\n",
       "      <th>1</th>\n",
       "      <td>6.66E+17</td>\n",
       "      <td>Hillary Clinton's 10 Most Hawkish Moments From...</td>\n",
       "      <td>NaN</td>\n",
       "      <td>0</td>\n",
       "      <td>1</td>\n",
       "      <td>0</td>\n",
       "      <td>0</td>\n",
       "      <td>78</td>\n",
       "      <td>0</td>\n",
       "      <td>0</td>\n",
       "      <td>0</td>\n",
       "      <td>6.213333</td>\n",
       "      <td>0.008089</td>\n",
       "      <td>1</td>\n",
       "      <td>0</td>\n",
       "      <td>0</td>\n",
       "    </tr>\n",
       "    <tr>\n",
       "      <th>2</th>\n",
       "      <td>6.66E+17</td>\n",
       "      <td>Watch The Full Second Democratic Debate Here -...</td>\n",
       "      <td>NaN</td>\n",
       "      <td>0</td>\n",
       "      <td>1</td>\n",
       "      <td>0</td>\n",
       "      <td>0</td>\n",
       "      <td>156</td>\n",
       "      <td>0</td>\n",
       "      <td>0</td>\n",
       "      <td>0</td>\n",
       "      <td>6.500000</td>\n",
       "      <td>0.320000</td>\n",
       "      <td>0</td>\n",
       "      <td>0</td>\n",
       "      <td>0</td>\n",
       "    </tr>\n",
       "    <tr>\n",
       "      <th>3</th>\n",
       "      <td>6.66E+17</td>\n",
       "      <td>Clinton plays defense on Iraq, Wall Street at ...</td>\n",
       "      <td>[empresa]</td>\n",
       "      <td>1</td>\n",
       "      <td>1</td>\n",
       "      <td>0</td>\n",
       "      <td>0</td>\n",
       "      <td>725</td>\n",
       "      <td>0</td>\n",
       "      <td>0</td>\n",
       "      <td>0</td>\n",
       "      <td>5.646667</td>\n",
       "      <td>1.552089</td>\n",
       "      <td>1</td>\n",
       "      <td>0</td>\n",
       "      <td>0</td>\n",
       "    </tr>\n",
       "    <tr>\n",
       "      <th>4</th>\n",
       "      <td>6.66E+17</td>\n",
       "      <td>Democratic Candidates Respond to Paris Attacks...</td>\n",
       "      <td>[demdebate, Nigeria, Ghana, USA]</td>\n",
       "      <td>4</td>\n",
       "      <td>1</td>\n",
       "      <td>0</td>\n",
       "      <td>0</td>\n",
       "      <td>478</td>\n",
       "      <td>0</td>\n",
       "      <td>0</td>\n",
       "      <td>0</td>\n",
       "      <td>5.475000</td>\n",
       "      <td>3.084675</td>\n",
       "      <td>1</td>\n",
       "      <td>0</td>\n",
       "      <td>0</td>\n",
       "    </tr>\n",
       "  </tbody>\n",
       "</table>\n",
       "</div>"
      ],
      "text/plain": [
       "    tweetID                                               text  \\\n",
       "0  6.66E+17  As campaign focus turns to foreign policy, Cli...   \n",
       "1  6.66E+17  Hillary Clinton's 10 Most Hawkish Moments From...   \n",
       "2  6.66E+17  Watch The Full Second Democratic Debate Here -...   \n",
       "3  6.66E+17  Clinton plays defense on Iraq, Wall Street at ...   \n",
       "4  6.66E+17  Democratic Candidates Respond to Paris Attacks...   \n",
       "\n",
       "                           hashtags  hashtag_count  url_count  favorite_count  \\\n",
       "0                               NaN              0          1               1   \n",
       "1                               NaN              0          1               0   \n",
       "2                               NaN              0          1               0   \n",
       "3                         [empresa]              1          1               0   \n",
       "4  [demdebate, Nigeria, Ghana, USA]              4          1               0   \n",
       "\n",
       "   retweet_count  followers_count  swear_count  emoji_count  emoticon_count  \\\n",
       "0              0             5949            0            0               0   \n",
       "1              0               78            0            0               0   \n",
       "2              0              156            0            0               0   \n",
       "3              0              725            0            0               0   \n",
       "4              0              478            0            0               0   \n",
       "\n",
       "   sentiment  sentiment_var  hillary  bernie  martin  \n",
       "0   6.135000       0.015075        1       0       0  \n",
       "1   6.213333       0.008089        1       0       0  \n",
       "2   6.500000       0.320000        0       0       0  \n",
       "3   5.646667       1.552089        1       0       0  \n",
       "4   5.475000       3.084675        1       0       0  "
      ]
     },
     "execution_count": 10,
     "metadata": {},
     "output_type": "execute_result"
    }
   ],
   "source": [
    "finaldf.head()"
   ]
  },
  {
   "cell_type": "code",
   "execution_count": 11,
   "metadata": {
    "collapsed": true
   },
   "outputs": [],
   "source": [
    "#separate data into three dataframes, one for each candidate\n",
    "berniedf = finaldf[finaldf[\"bernie\"] == 1]\n",
    "hillarydf = finaldf[finaldf[\"hillary\"] == 1]\n",
    "martindf = finaldf[finaldf[\"martin\"] == 1]"
   ]
  },
  {
   "cell_type": "code",
   "execution_count": 12,
   "metadata": {
    "collapsed": false
   },
   "outputs": [
    {
     "data": {
      "text/html": [
       "<div>\n",
       "<table border=\"1\" class=\"dataframe\">\n",
       "  <thead>\n",
       "    <tr style=\"text-align: right;\">\n",
       "      <th></th>\n",
       "      <th>tweetID</th>\n",
       "      <th>text</th>\n",
       "      <th>hashtags</th>\n",
       "      <th>hashtag_count</th>\n",
       "      <th>url_count</th>\n",
       "      <th>favorite_count</th>\n",
       "      <th>retweet_count</th>\n",
       "      <th>followers_count</th>\n",
       "      <th>swear_count</th>\n",
       "      <th>emoji_count</th>\n",
       "      <th>emoticon_count</th>\n",
       "      <th>sentiment</th>\n",
       "      <th>sentiment_var</th>\n",
       "      <th>hillary</th>\n",
       "      <th>bernie</th>\n",
       "      <th>martin</th>\n",
       "    </tr>\n",
       "  </thead>\n",
       "  <tbody>\n",
       "    <tr>\n",
       "      <th>16</th>\n",
       "      <td>6.66E+17</td>\n",
       "      <td>CBS News debate changes after Paris attacks pr...</td>\n",
       "      <td>NaN</td>\n",
       "      <td>0</td>\n",
       "      <td>1</td>\n",
       "      <td>0</td>\n",
       "      <td>0</td>\n",
       "      <td>434</td>\n",
       "      <td>0</td>\n",
       "      <td>0</td>\n",
       "      <td>0</td>\n",
       "      <td>4.66</td>\n",
       "      <td>4.8400</td>\n",
       "      <td>0</td>\n",
       "      <td>1</td>\n",
       "      <td>0</td>\n",
       "    </tr>\n",
       "    <tr>\n",
       "      <th>18</th>\n",
       "      <td>6.66E+17</td>\n",
       "      <td>Sanders aide pushes back against CBS switch to...</td>\n",
       "      <td>NaN</td>\n",
       "      <td>0</td>\n",
       "      <td>1</td>\n",
       "      <td>0</td>\n",
       "      <td>0</td>\n",
       "      <td>106</td>\n",
       "      <td>0</td>\n",
       "      <td>0</td>\n",
       "      <td>0</td>\n",
       "      <td>4.76</td>\n",
       "      <td>1.8496</td>\n",
       "      <td>0</td>\n",
       "      <td>1</td>\n",
       "      <td>0</td>\n",
       "    </tr>\n",
       "    <tr>\n",
       "      <th>30</th>\n",
       "      <td>6.66E+17</td>\n",
       "      <td>Here is the statistics for the 2nd #DemDebate ...</td>\n",
       "      <td>[DemDebate]</td>\n",
       "      <td>1</td>\n",
       "      <td>1</td>\n",
       "      <td>1</td>\n",
       "      <td>0</td>\n",
       "      <td>331</td>\n",
       "      <td>0</td>\n",
       "      <td>0</td>\n",
       "      <td>0</td>\n",
       "      <td>7.20</td>\n",
       "      <td>0.0000</td>\n",
       "      <td>0</td>\n",
       "      <td>1</td>\n",
       "      <td>0</td>\n",
       "    </tr>\n",
       "    <tr>\n",
       "      <th>31</th>\n",
       "      <td>6.66E+17</td>\n",
       "      <td>All polls point to Bernie winning the debate.#...</td>\n",
       "      <td>[DemDebate, FeelTheBern]</td>\n",
       "      <td>2</td>\n",
       "      <td>0</td>\n",
       "      <td>2</td>\n",
       "      <td>2</td>\n",
       "      <td>85</td>\n",
       "      <td>0</td>\n",
       "      <td>0</td>\n",
       "      <td>0</td>\n",
       "      <td>7.13</td>\n",
       "      <td>0.8281</td>\n",
       "      <td>0</td>\n",
       "      <td>1</td>\n",
       "      <td>0</td>\n",
       "    </tr>\n",
       "    <tr>\n",
       "      <th>32</th>\n",
       "      <td>6.66E+17</td>\n",
       "      <td>330592 - At the second Democratic Party presid...</td>\n",
       "      <td>NaN</td>\n",
       "      <td>0</td>\n",
       "      <td>1</td>\n",
       "      <td>0</td>\n",
       "      <td>0</td>\n",
       "      <td>8484</td>\n",
       "      <td>0</td>\n",
       "      <td>0</td>\n",
       "      <td>0</td>\n",
       "      <td>6.95</td>\n",
       "      <td>0.3969</td>\n",
       "      <td>0</td>\n",
       "      <td>1</td>\n",
       "      <td>0</td>\n",
       "    </tr>\n",
       "  </tbody>\n",
       "</table>\n",
       "</div>"
      ],
      "text/plain": [
       "     tweetID                                               text  \\\n",
       "16  6.66E+17  CBS News debate changes after Paris attacks pr...   \n",
       "18  6.66E+17  Sanders aide pushes back against CBS switch to...   \n",
       "30  6.66E+17  Here is the statistics for the 2nd #DemDebate ...   \n",
       "31  6.66E+17  All polls point to Bernie winning the debate.#...   \n",
       "32  6.66E+17  330592 - At the second Democratic Party presid...   \n",
       "\n",
       "                    hashtags  hashtag_count  url_count  favorite_count  \\\n",
       "16                       NaN              0          1               0   \n",
       "18                       NaN              0          1               0   \n",
       "30               [DemDebate]              1          1               1   \n",
       "31  [DemDebate, FeelTheBern]              2          0               2   \n",
       "32                       NaN              0          1               0   \n",
       "\n",
       "    retweet_count  followers_count  swear_count  emoji_count  emoticon_count  \\\n",
       "16              0              434            0            0               0   \n",
       "18              0              106            0            0               0   \n",
       "30              0              331            0            0               0   \n",
       "31              2               85            0            0               0   \n",
       "32              0             8484            0            0               0   \n",
       "\n",
       "    sentiment  sentiment_var  hillary  bernie  martin  \n",
       "16       4.66         4.8400        0       1       0  \n",
       "18       4.76         1.8496        0       1       0  \n",
       "30       7.20         0.0000        0       1       0  \n",
       "31       7.13         0.8281        0       1       0  \n",
       "32       6.95         0.3969        0       1       0  "
      ]
     },
     "execution_count": 12,
     "metadata": {},
     "output_type": "execute_result"
    }
   ],
   "source": [
    "berniedf.head()"
   ]
  },
  {
   "cell_type": "code",
   "execution_count": 11,
   "metadata": {
    "collapsed": true
   },
   "outputs": [],
   "source": [
    "# average favorite count \n",
    "bernie = np.mean(finaldf[\"favorite_count\"][finaldf[\"bernie\"] ==1])\n",
    "hillary = np.mean(finaldf[\"favorite_count\"][finaldf[\"hillary\"]==1])"
   ]
  },
  {
   "cell_type": "code",
   "execution_count": 21,
   "metadata": {
    "collapsed": false
   },
   "outputs": [],
   "source": [
    "#bar chart\n",
    "\n",
    "# percentage of tweets that contained an emoji, emoticon, swearword, url, retweet, or favorite\n",
    "emoji_pct_bernie = len((berniedf[berniedf[\"emoji_count\"] >= 1]).index)/float(len(berniedf.index))\n",
    "emoji_pct_hillary = len((hillarydf[hillarydf[\"emoji_count\"] >= 1]).index)/float(len(hillarydf.index))\n",
    "\n",
    "emoticon_pct_bernie = len((berniedf[berniedf[\"emoticon_count\"] >= 1]).index)/float(len(berniedf.index))\n",
    "emoticon_pct_hillary = len((hillarydf[hillarydf[\"emoticon_count\"] >= 1]).index)/float(len(hillarydf.index))\n",
    "\n",
    "swear_pct_bernie = len((berniedf[berniedf[\"swear_count\"] >= 1]).index)/float(len(berniedf.index))\n",
    "swear_pct_hillary = len((hillarydf[hillarydf[\"swear_count\"] >= 1]).index)/float(len(hillarydf.index))\n",
    "\n",
    "url_pct_bernie = len((berniedf[berniedf[\"url_count\"] >= 1]).index)/float(len(berniedf.index))\n",
    "url_pct_hillary = len((hillarydf[hillarydf[\"url_count\"] >= 1]).index)/float(len(hillarydf.index))\n",
    "\n",
    "retweet_pct_bernie = len((berniedf[berniedf[\"retweet_count\"] >= 1]).index)/float(len(berniedf.index))\n",
    "retweet_pct_hillary = len((hillarydf[hillarydf[\"retweet_count\"] >= 1]).index)/float(len(hillarydf.index))\n",
    "\n",
    "fav_pct_bernie = len((berniedf[berniedf[\"favorite_count\"] >= 1]).index)/float(len(berniedf.index))\n",
    "fav_pct_hillary = len((hillarydf[hillarydf[\"favorite_count\"] >= 1]).index)/float(len(hillarydf.index))\n",
    "\n",
    "fig, ax = plt.subplots()\n",
    "\n",
    "width = .35\n",
    "\n",
    "groupB = (emoji_pct_bernie, emoticon_pct_bernie, swear_pct_bernie, url_pct_bernie, retweet_pct_bernie, fav_pct_bernie)\n",
    "groupH = (emoji_pct_hillary, emoticon_pct_hillary, swear_pct_hillary, url_pct_hillary, retweet_pct_hillary, fav_pct_hillary)\n",
    "\n",
    "index = np.arange(len(groupB))\n",
    "\n",
    "groupBplot = plt.bar(index, groupB, width, color = \"lightsteelblue\", label = \"Bernie\")\n",
    "groupHplot = plt.bar(index + width, groupH, width, color = 'yellowgreen', label = \"Hillary\" )\n",
    "\n",
    "plt.xlabel(\"Feature\")\n",
    "plt.ylabel(\"Percentage of Tweets about Candidate That Contain Feature\")\n",
    "plt.title(\"Comparing Candidate Tweets by Tweet Characteristics\")\n",
    "\n",
    "plt.xticks(index + width, ('Emoji', 'Emoticon', 'Swear', 'Url', 'Retweet', 'Favorite'))\n",
    "plt.legend(loc =\"upper left\")\n",
    "\n",
    "plt.show()"
   ]
  },
  {
   "cell_type": "code",
   "execution_count": 15,
   "metadata": {
    "collapsed": false
   },
   "outputs": [
    {
     "name": "stdout",
     "output_type": "stream",
     "text": [
      "0.379533607682\n",
      "0.323535949811\n"
     ]
    }
   ],
   "source": [
    "print fav_pct_bernie \n",
    "print fav_pct_hillary"
   ]
  },
  {
   "cell_type": "code",
   "execution_count": 83,
   "metadata": {
    "collapsed": false
   },
   "outputs": [],
   "source": [
    "#look at which swear words crop up the most\n",
    "swearlist=['fuck', 'FUCK', 'Fuck', 'shit', 'SHIT', 'Shit', 'bitch', 'BITCH', 'Bitch', 'damn', 'DAMN','Damn','crap', 'CRAP', 'Crap', 'fag','FAG','Fag','piss','Piss', 'PISS','pussy', 'PUSSY','Pussy', 'asshole','ASSHOLE','Asshole','slut','SLUT','Slut', 'cock','COCK','Cock','darn','DARN','Darn','douche','DOUCHE','Douche','bastard','BASTARD', 'Bastard']\n",
    "sweardict_bernie={}\n",
    "sweardict_hillary={}\n",
    "for word in swearlist:\n",
    "    sweardict_bernie[word] = 0\n",
    "    sweardict_hillary[word] = 0\n",
    "\n",
    "for text in berniedf.text:\n",
    "    for word in swearlist:\n",
    "        if word in text:\n",
    "            sweardict_bernie[word] += 1\n",
    "for text in hillarydf.text:\n",
    "    for word in swearlist:\n",
    "        if word in text:\n",
    "            sweardict_hillary[word] += 1\n",
    "\n",
    "finalsweardictH={}\n",
    "finalsweardictB={}\n",
    "finalswearlist=['fuck', 'shit', 'bitch', 'damn']\n",
    "finalsweardictH['fuck'] = sweardict_hillary['fuck'] + sweardict_hillary['Fuck'] + sweardict_hillary['FUCK']\n",
    "finalsweardictB['fuck'] = sweardict_bernie['fuck'] + sweardict_bernie['Fuck'] + sweardict_bernie['FUCK']\n",
    "finalsweardictH['shit'] = sweardict_hillary['shit'] + sweardict_hillary['Shit'] + sweardict_hillary['SHIT']\n",
    "finalsweardictB['shit'] = sweardict_bernie['fuck'] + sweardict_bernie['Shit'] + sweardict_bernie['SHIT']\n",
    "finalsweardictH['bitch'] = sweardict_hillary['bitch'] + sweardict_hillary['Bitch'] + sweardict_hillary['BITCH']\n",
    "finalsweardictB['bitch'] = sweardict_bernie['bitch'] + sweardict_bernie['Bitch'] + sweardict_bernie['BITCH']\n",
    "finalsweardictH['damn'] = sweardict_hillary['damn'] + sweardict_hillary['Damn'] + sweardict_hillary['DAMN']\n",
    "finalsweardictB['damn'] = sweardict_bernie['damn'] + sweardict_bernie['Damn'] + sweardict_bernie['DAMN']\n",
    "\n",
    "for word in finalsweardictH:\n",
    "    finalsweardictH[word] = finalsweardictH[word]/float(sum(sweardict_hillary.values()))\n",
    "\n",
    "for word in finalsweardictB:\n",
    "    finalsweardictB[word] = finalsweardictB[word]/float(sum(sweardict_bernie.values()))"
   ]
  },
  {
   "cell_type": "code",
   "execution_count": 86,
   "metadata": {
    "collapsed": false
   },
   "outputs": [],
   "source": [
    "#create graph for swear words in Bernie and Hillary tweets\n",
    "\n",
    "swearB = finalsweardictB.values()\n",
    "swearH = finalsweardictH.values()\n",
    "\n",
    "fig, ax = plt.subplots()\n",
    "\n",
    "index = np.arange(len(swearB))\n",
    "\n",
    "width = .35\n",
    "\n",
    "groupBplot = plt.bar(index, swearB, width, color = \"lightsteelblue\", label = \"Bernie\")\n",
    "groupHplot = plt.bar(index + width, swearH, width, color = 'yellowgreen', label = \"Hillary\" )\n",
    "\n",
    "\n",
    "plt.xlabel(\"Swear Word\")\n",
    "plt.ylabel(\"Percentage of Swear Word Tweets about Candidate That Contain Swear Word\")\n",
    "plt.title(\"Comparing Candidates by Swear Words\")\n",
    "\n",
    "plt.xticks(index + width, ('fuck', 'shit', 'bitch', 'damn'))\n",
    "plt.legend(loc =\"upper left\")\n",
    "\n",
    "plt.show()\n"
   ]
  }
 ],
 "metadata": {
  "kernelspec": {
   "display_name": "Python 2",
   "language": "python",
   "name": "python2"
  },
  "language_info": {
   "codemirror_mode": {
    "name": "ipython",
    "version": 2
   },
   "file_extension": ".py",
   "mimetype": "text/x-python",
   "name": "python",
   "nbconvert_exporter": "python",
   "pygments_lexer": "ipython2",
   "version": "2.7.10"
  }
 },
 "nbformat": 4,
 "nbformat_minor": 0
}
