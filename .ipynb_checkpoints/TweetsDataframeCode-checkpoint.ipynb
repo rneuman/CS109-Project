{
 "cells": [
  {
   "cell_type": "code",
   "execution_count": 1,
   "metadata": {
    "collapsed": true
   },
   "outputs": [],
   "source": [
    "#read tweets text file into python\n",
    "file = open('tweets.txt', 'r')\n",
    "data = file.read()"
   ]
  },
  {
   "cell_type": "code",
   "execution_count": null,
   "metadata": {
    "collapsed": true
   },
   "outputs": [],
   "source": [
    "#split the text file into a list of tweets\n",
    "newdata = data.split('\\n')"
   ]
  },
  {
   "cell_type": "code",
   "execution_count": null,
   "metadata": {
    "collapsed": true
   },
   "outputs": [],
   "source": [
    "#at this point the tweets are represented as strings, so we use json.loads to convert them to dictionaries\n",
    "import simplejson\n",
    "tweetlist=[]\n",
    "for tweet in newdata[0:200000]:\n",
    "    tweetlist.append(simplejson.loads(tweet))"
   ]
  },
  {
   "cell_type": "code",
   "execution_count": null,
   "metadata": {
    "collapsed": true
   },
   "outputs": [],
   "source": [
    "import pandas as pd\n",
    "\n",
    "#create function that takes in list of tweets and outputs pandas dataframe\n",
    "def toDataFrame(tweets):\n",
    "\n",
    "    DataSet = pd.DataFrame()\n",
    "\n",
    "    DataSet['tweetID'] = [tweet[\"id\"] for tweet in tweets]\n",
    "    DataSet[\"text\"] = [tweet[\"text\"] for tweet in tweets]\n",
    "    DataSet[\"hashtags\"] = [(tweet[\"entities\"][\"hashtags\"][0][\"text\"] if len(tweet['entities']['hashtags']) >= 1 else None) for tweet in tweets]\n",
    "    #DataSet[\"hasthtag_count\"] = \n",
    "    DataSet[\"urls\"] = [(tweet[\"entities\"][\"urls\"][0][\"url\"] if len(tweet['entities']['urls']) >= 1 else None) for tweet in tweets]\n",
    "    #DataSet[\"url_count\"] = [(tweet[\"entities\"][\"urls\"][0][\"url\"] if len(tweet['entities']['urls']) >= 1 else None) for tweet in tweets]\n",
    "    DataSet[\"favorite_count\"] = [tweet[\"favorite_count\"] for tweet in tweets]\n",
    "    DataSet[\"retweet_count\"] = [tweet[\"retweet_count\"] for tweet in tweets]\n",
    "\n",
    "    return DataSet\n",
    "\n",
    "toDataFrame(tweetlist)"
   ]
  }
 ],
 "metadata": {
  "kernelspec": {
   "display_name": "Python 2",
   "language": "python",
   "name": "python2"
  },
  "language_info": {
   "codemirror_mode": {
    "name": "ipython",
    "version": 2
   },
   "file_extension": ".py",
   "mimetype": "text/x-python",
   "name": "python",
   "nbconvert_exporter": "python",
   "pygments_lexer": "ipython2",
   "version": "2.7.10"
  }
 },
 "nbformat": 4,
 "nbformat_minor": 0
}
