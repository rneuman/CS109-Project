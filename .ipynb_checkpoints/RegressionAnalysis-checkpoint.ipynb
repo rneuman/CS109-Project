{
 "cells": [
  {
   "cell_type": "code",
   "execution_count": 2,
   "metadata": {
    "collapsed": true
   },
   "outputs": [],
   "source": [
    "%matplotlib inline\n",
    "import numpy as np\n",
    "import scipy as sp\n",
    "import matplotlib as mpl\n",
    "import matplotlib.cm as cm\n",
    "import matplotlib.pyplot as plt\n",
    "import pandas as pd\n",
    "pd.set_option('display.width', 500)\n",
    "pd.set_option('display.max_columns', 100)\n",
    "pd.set_option('display.notebook_repr_html', True)\n",
    "import seaborn as sns\n",
    "sns.set_style(\"whitegrid\")\n",
    "sns.set_context(\"poster\")\n",
    "from sklearn.linear_model import LogisticRegression\n",
    "from sklearn.cross_validation import train_test_split\n",
    "from sklearn import metrics\n",
    "from sklearn.cross_validation import cross_val_score\n",
    "from patsy import dmatrices"
   ]
  },
  {
   "cell_type": "code",
   "execution_count": 3,
   "metadata": {
    "collapsed": false
   },
   "outputs": [],
   "source": [
    "dftweets=pd.read_csv(\"respvardf.csv\")\n"
   ]
  },
  {
   "cell_type": "code",
   "execution_count": 4,
   "metadata": {
    "collapsed": false
   },
   "outputs": [],
   "source": [
    "dftweets = dftweets.drop('Unnamed: 0.1', 1)\n",
    "dftweets = dftweets.drop('Unnamed: 0', 1)"
   ]
  },
  {
   "cell_type": "code",
   "execution_count": 5,
   "metadata": {
    "collapsed": false
   },
   "outputs": [
    {
     "data": {
      "text/plain": [
       "82794"
      ]
     },
     "execution_count": 5,
     "metadata": {},
     "output_type": "execute_result"
    }
   ],
   "source": [
    "len(dftweets)"
   ]
  },
  {
   "cell_type": "code",
   "execution_count": 6,
   "metadata": {
    "collapsed": false
   },
   "outputs": [],
   "source": [
    "# We decided to drop Martin O'Malley because there are so few tweets on him compared to the other candidates\n",
    "finaldf=dftweets[dftweets['resp'] != 'martin']"
   ]
  },
  {
   "cell_type": "code",
   "execution_count": 7,
   "metadata": {
    "collapsed": false
   },
   "outputs": [
    {
     "data": {
      "text/plain": [
       "76937"
      ]
     },
     "execution_count": 7,
     "metadata": {},
     "output_type": "execute_result"
    }
   ],
   "source": [
    "len(finaldf)"
   ]
  },
  {
   "cell_type": "code",
   "execution_count": 8,
   "metadata": {
    "collapsed": false
   },
   "outputs": [
    {
     "data": {
      "text/plain": [
       "0.56435218883227622"
      ]
     },
     "execution_count": 8,
     "metadata": {},
     "output_type": "execute_result"
    }
   ],
   "source": [
    "# Here we look at our model training on all the data.\n",
    "y, X = dmatrices('hillary ~ hashtag_count + url_count + swear_count + emoji_count + emoticon_count\\\n",
    "                 + sentiment + sentiment_var', finaldf, return_type=\"dataframe\")\n",
    "y = np.ravel(y)\n",
    "model = LogisticRegression()\n",
    "model = model.fit(X, y)\n",
    "model.score(X, y)"
   ]
  },
  {
   "cell_type": "code",
   "execution_count": 9,
   "metadata": {
    "collapsed": true
   },
   "outputs": [],
   "source": [
    "# split data into a train and test set with 70% of data in train set\n",
    "itrain, itest = train_test_split(xrange(finaldf.shape[0]), train_size=0.7)"
   ]
  },
  {
   "cell_type": "code",
   "execution_count": 10,
   "metadata": {
    "collapsed": false
   },
   "outputs": [
    {
     "data": {
      "text/plain": [
       "((76937L,), 53855)"
      ]
     },
     "execution_count": 10,
     "metadata": {},
     "output_type": "execute_result"
    }
   ],
   "source": [
    "# Apply a mask to the dataframe to add the indication of train/test\n",
    "mask=np.ones(finaldf.shape[0], dtype='int')\n",
    "mask[itrain]=1\n",
    "mask[itest]=0\n",
    "mask = (mask==1)\n",
    "mask.shape, mask.sum()"
   ]
  },
  {
   "cell_type": "code",
   "execution_count": 11,
   "metadata": {
    "collapsed": true
   },
   "outputs": [],
   "source": [
    "traindf = finaldf[mask]\n",
    "testdf = finaldf[~mask]"
   ]
  },
  {
   "cell_type": "code",
   "execution_count": 12,
   "metadata": {
    "collapsed": true
   },
   "outputs": [],
   "source": [
    "# create dataframes with an intercept\n",
    "ytrain, Xtrain = dmatrices('hillary ~ hashtag_count + url_count + favorite_count + retweet_count + swear_count + emoji_count + emoticon_count\\\n",
    "                 + sentiment + sentiment_var', traindf, return_type=\"dataframe\")\n",
    "ytest, Xtest = dmatrices('hillary ~ hashtag_count + url_count + favorite_count + retweet_count + swear_count + emoji_count + emoticon_count\\\n",
    "                 + sentiment + sentiment_var', testdf, return_type=\"dataframe\")"
   ]
  },
  {
   "cell_type": "code",
   "execution_count": 13,
   "metadata": {
    "collapsed": true
   },
   "outputs": [],
   "source": [
    "# flatten the y-vars\n",
    "ytrain = np.ravel(ytrain)\n",
    "ytest = np.ravel(ytest)"
   ]
  },
  {
   "cell_type": "code",
   "execution_count": 14,
   "metadata": {
    "collapsed": false
   },
   "outputs": [
    {
     "data": {
      "text/plain": [
       "0.56538854331074184"
      ]
     },
     "execution_count": 14,
     "metadata": {},
     "output_type": "execute_result"
    }
   ],
   "source": [
    "# Create the model\n",
    "trainmodel = LogisticRegression()\n",
    "trainmodel = trainmodel.fit(Xtrain, ytrain)\n",
    "trainmodel.score(Xtrain, ytrain)"
   ]
  },
  {
   "cell_type": "code",
   "execution_count": 15,
   "metadata": {
    "collapsed": false
   },
   "outputs": [
    {
     "data": {
      "text/plain": [
       "0.55803474719466228"
      ]
     },
     "execution_count": 15,
     "metadata": {},
     "output_type": "execute_result"
    }
   ],
   "source": [
    "# Score of the model on the test vars\n",
    "trainmodel.score(Xtest, ytest)"
   ]
  },
  {
   "cell_type": "code",
   "execution_count": 16,
   "metadata": {
    "collapsed": false
   },
   "outputs": [
    {
     "data": {
      "text/plain": [
       "0.80139508686798666"
      ]
     },
     "execution_count": 16,
     "metadata": {},
     "output_type": "execute_result"
    }
   ],
   "source": [
    "# collect the predictions on the test set\n",
    "predicted = trainmodel.predict(Xtest)\n",
    "np.mean(predicted)"
   ]
  },
  {
   "cell_type": "code",
   "execution_count": 17,
   "metadata": {
    "collapsed": false
   },
   "outputs": [
    {
     "name": "stdout",
     "output_type": "stream",
     "text": [
      "[[ 0.32504608  0.67495392]\n",
      " [ 0.45867518  0.54132482]\n",
      " [ 0.52346898  0.47653102]\n",
      " ..., \n",
      " [ 0.47797128  0.52202872]\n",
      " [ 0.25187257  0.74812743]\n",
      " [ 0.4089338   0.5910662 ]]\n"
     ]
    }
   ],
   "source": [
    "# generate class probabilities\n",
    "probs = trainmodel.predict_proba(Xtest)\n",
    "print probs"
   ]
  },
  {
   "cell_type": "code",
   "execution_count": 18,
   "metadata": {
    "collapsed": false
   },
   "outputs": [
    {
     "name": "stdout",
     "output_type": "stream",
     "text": [
      "0.558034747195\n",
      "0.583294319167\n"
     ]
    }
   ],
   "source": [
    "# generate evaluation metrics\n",
    "print metrics.accuracy_score(ytest, predicted)\n",
    "print metrics.roc_auc_score(ytest, probs[:, 1])"
   ]
  },
  {
   "cell_type": "code",
   "execution_count": 30,
   "metadata": {
    "collapsed": false
   },
   "outputs": [
    {
     "name": "stdout",
     "output_type": "stream",
     "text": [
      "[[ 2636  8385]\n",
      " [ 1820 10240]]\n",
      "             precision    recall  f1-score   support\n",
      "\n",
      "        0.0       0.59      0.24      0.34     11021\n",
      "        1.0       0.55      0.85      0.67     12060\n",
      "\n",
      "avg / total       0.57      0.56      0.51     23081\n",
      "\n"
     ]
    }
   ],
   "source": [
    "# Confusion matrix\n",
    "print metrics.confusion_matrix(ytest, predicted)\n",
    "print metrics.classification_report(ytest, predicted)"
   ]
  },
  {
   "cell_type": "code",
   "execution_count": 20,
   "metadata": {
    "collapsed": false
   },
   "outputs": [
    {
     "data": {
      "text/plain": [
       "array([[  1.29007559e-01,  -1.53515543e-01,   5.61939124e-01,\n",
       "         -7.16685032e-05,   1.18689013e-03,   2.75534993e-01,\n",
       "         -1.03471209e-02,  -3.27236729e-01,  -1.43848466e-02,\n",
       "          1.24947321e-02]])"
      ]
     },
     "execution_count": 20,
     "metadata": {},
     "output_type": "execute_result"
    }
   ],
   "source": [
    "# Coeficients from the model\n",
    "trainmodel.coef_"
   ]
  },
  {
   "cell_type": "code",
   "execution_count": 44,
   "metadata": {
    "collapsed": false
   },
   "outputs": [],
   "source": [
    "# create dataframes with an intercept\n",
    "# this is the saturated model with all first-order interaction variables\n",
    "ytrain2, Xtrain2 = dmatrices('hillary ~ hashtag_count + url_count + favorite_count + retweet_count + swear_count + emoji_count + emoticon_count\\\n",
    "                 + sentiment + sentiment_var + hashtag_count*url_count + hashtag_count*retweet_count + hashtag_count*swear_count\\\n",
    "                 + hashtag_count*emoji_count + hashtag_count*emoticon_count + hashtag_count*sentiment + url_count*favorite_count\\\n",
    "                 +url_count*retweet_count + url_count*swear_count + url_count*emoji_count + url_count*emoticon_count + url_count*sentiment\\\n",
    "                 + favorite_count*swear_count + favorite_count*emoji_count + favorite_count*emoticon_count +favorite_count*sentiment\\\n",
    "                 + swear_count*emoji_count+swear_count*emoticon_count + swear_count * sentiment + emoji_count * emoticon_count\\\n",
    "                 + emoji_count * sentiment + emoji_count * sentiment_var + sentiment * sentiment_var', traindf, return_type=\"dataframe\")\n",
    "ytest2, Xtest2 = dmatrices('hillary ~ hashtag_count + url_count + favorite_count + retweet_count + swear_count + emoji_count + emoticon_count\\\n",
    "                 + sentiment + sentiment_var + hashtag_count*url_count + hashtag_count*retweet_count + hashtag_count*swear_count\\\n",
    "                 + hashtag_count*emoji_count + hashtag_count*emoticon_count + hashtag_count*sentiment + url_count*favorite_count\\\n",
    "                 +url_count*retweet_count + url_count*swear_count + url_count*emoji_count + url_count*emoticon_count + url_count*sentiment\\\n",
    "                 + favorite_count*swear_count + favorite_count*emoji_count + favorite_count*emoticon_count +favorite_count*sentiment\\\n",
    "                 + swear_count*emoji_count+swear_count*emoticon_count + swear_count * sentiment + emoji_count * emoticon_count\\\n",
    "                 + emoji_count * sentiment + emoji_count * sentiment_var + sentiment * sentiment_var', testdf, return_type=\"dataframe\")"
   ]
  },
  {
   "cell_type": "code",
   "execution_count": 45,
   "metadata": {
    "collapsed": true
   },
   "outputs": [],
   "source": [
    "# flatten the y-vars\n",
    "ytrain2 = np.ravel(ytrain2)\n",
    "ytest2 = np.ravel(ytest2)"
   ]
  },
  {
   "cell_type": "code",
   "execution_count": 46,
   "metadata": {
    "collapsed": false
   },
   "outputs": [
    {
     "data": {
      "text/plain": [
       "0.56492433385943741"
      ]
     },
     "execution_count": 46,
     "metadata": {},
     "output_type": "execute_result"
    }
   ],
   "source": [
    "# Create the model\n",
    "trainmodel2 = LogisticRegression()\n",
    "trainmodel2 = trainmodel2.fit(Xtrain2, ytrain2)\n",
    "trainmodel2.score(Xtrain2, ytrain2)"
   ]
  },
  {
   "cell_type": "code",
   "execution_count": 47,
   "metadata": {
    "collapsed": false
   },
   "outputs": [
    {
     "data": {
      "text/plain": [
       "0.55786144447814223"
      ]
     },
     "execution_count": 47,
     "metadata": {},
     "output_type": "execute_result"
    }
   ],
   "source": [
    "# Score of the model on the test vars\n",
    "trainmodel2.score(Xtest2, ytest2)"
   ]
  },
  {
   "cell_type": "code",
   "execution_count": 48,
   "metadata": {
    "collapsed": false
   },
   "outputs": [
    {
     "data": {
      "text/plain": [
       "0.80694077379662921"
      ]
     },
     "execution_count": 48,
     "metadata": {},
     "output_type": "execute_result"
    }
   ],
   "source": [
    "# collect the predictions on the test set\n",
    "predicted2 = trainmodel2.predict(Xtest2)\n",
    "np.mean(predicted2)"
   ]
  },
  {
   "cell_type": "code",
   "execution_count": 49,
   "metadata": {
    "collapsed": false
   },
   "outputs": [
    {
     "name": "stdout",
     "output_type": "stream",
     "text": [
      "[[ 0.3235633   0.6764367 ]\n",
      " [ 0.42259642  0.57740358]\n",
      " [ 0.52579054  0.47420946]\n",
      " ..., \n",
      " [ 0.48786056  0.51213944]\n",
      " [ 0.32905155  0.67094845]\n",
      " [ 0.424278    0.575722  ]]\n"
     ]
    }
   ],
   "source": [
    "# generate class probabilities\n",
    "probs2 = trainmodel2.predict_proba(Xtest2)\n",
    "print probs2"
   ]
  },
  {
   "cell_type": "code",
   "execution_count": 41,
   "metadata": {
    "collapsed": false
   },
   "outputs": [
    {
     "name": "stdout",
     "output_type": "stream",
     "text": [
      "0.557861444478\n",
      "0.585078810045\n"
     ]
    }
   ],
   "source": [
    "# generate evaluation metrics\n",
    "print metrics.accuracy_score(ytest2, predicted2)\n",
    "print metrics.roc_auc_score(ytest2, probs2[:, 1])"
   ]
  },
  {
   "cell_type": "code",
   "execution_count": 50,
   "metadata": {
    "collapsed": false
   },
   "outputs": [
    {
     "name": "stdout",
     "output_type": "stream",
     "text": [
      "[[ 2636  8385]\n",
      " [ 1820 10240]]\n",
      "             precision    recall  f1-score   support\n",
      "\n",
      "        0.0       0.59      0.24      0.34     11021\n",
      "        1.0       0.55      0.85      0.67     12060\n",
      "\n",
      "avg / total       0.57      0.56      0.51     23081\n",
      "\n"
     ]
    }
   ],
   "source": [
    "# Confusion matrix\n",
    "print metrics.confusion_matrix(ytest2, predicted2)\n",
    "print metrics.classification_report(ytest2, predicted2)"
   ]
  },
  {
   "cell_type": "code",
   "execution_count": 51,
   "metadata": {
    "collapsed": false
   },
   "outputs": [
    {
     "data": {
      "text/plain": [
       "array([[ 0.01883212,  0.08362351,  0.48918602, -0.00401454,  0.0039297 ,\n",
       "         0.11539828, -0.50062331, -0.30979595,  0.03256227, -0.06885571,\n",
       "         0.06922951, -0.00138839,  0.01574478,  0.03547779,  0.03256053,\n",
       "        -0.04889607, -0.00101372, -0.00330904, -0.18512296,  0.40912606,\n",
       "        -0.0160733 ,  0.00129108, -0.00310671,  0.0445914 , -0.02973928,\n",
       "         0.0006499 , -0.12914617,  0.5975632 ,  0.02911268, -0.46010319,\n",
       "         0.063091  ,  0.00950964,  0.0160899 ]])"
      ]
     },
     "execution_count": 51,
     "metadata": {},
     "output_type": "execute_result"
    }
   ],
   "source": [
    "# Coeficients from the model\n",
    "trainmodel2.coef_"
   ]
  }
 ],
 "metadata": {
  "kernelspec": {
   "display_name": "Python 2",
   "language": "python",
   "name": "python2"
  },
  "language_info": {
   "codemirror_mode": {
    "name": "ipython",
    "version": 2
   },
   "file_extension": ".py",
   "mimetype": "text/x-python",
   "name": "python",
   "nbconvert_exporter": "python",
   "pygments_lexer": "ipython2",
   "version": "2.7.10"
  }
 },
 "nbformat": 4,
 "nbformat_minor": 0
}
