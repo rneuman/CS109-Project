{
 "cells": [
  {
   "cell_type": "code",
   "execution_count": 54,
   "metadata": {
    "collapsed": true
   },
   "outputs": [],
   "source": [
    "%matplotlib inline\n",
    "import numpy as np\n",
    "import scipy as sp\n",
    "import matplotlib as mpl\n",
    "import matplotlib.cm as cm\n",
    "import matplotlib.pyplot as plt\n",
    "import pandas as pd\n",
    "pd.set_option('display.width', 500)\n",
    "pd.set_option('display.max_columns', 100)\n",
    "pd.set_option('display.notebook_repr_html', True)\n",
    "import seaborn as sns\n",
    "sns.set_style(\"whitegrid\")\n",
    "sns.set_context(\"poster\")\n",
    "from sklearn.linear_model import LogisticRegression\n",
    "from sklearn.cross_validation import train_test_split\n",
    "from sklearn import metrics\n",
    "from sklearn.cross_validation import cross_val_score\n",
    "from patsy import dmatrices"
   ]
  },
  {
   "cell_type": "code",
   "execution_count": 56,
   "metadata": {
    "collapsed": false
   },
   "outputs": [],
   "source": [
    "dftweets=pd.read_csv(\"respvardf.csv\")\n"
   ]
  },
  {
   "cell_type": "code",
   "execution_count": 57,
   "metadata": {
    "collapsed": false
   },
   "outputs": [],
   "source": [
    "dftweets = dftweets.drop('Unnamed: 0.1', 1)\n",
    "dftweets = dftweets.drop('Unnamed: 0', 1)"
   ]
  },
  {
   "cell_type": "code",
   "execution_count": 58,
   "metadata": {
    "collapsed": false
   },
   "outputs": [
    {
     "data": {
      "text/plain": [
       "82794"
      ]
     },
     "execution_count": 58,
     "metadata": {},
     "output_type": "execute_result"
    }
   ],
   "source": [
    "len(dftweets)"
   ]
  },
  {
   "cell_type": "code",
   "execution_count": 59,
   "metadata": {
    "collapsed": false
   },
   "outputs": [],
   "source": [
    "# We decided to drop Martin O'Malley because there are so few tweets on him compared to the other candidates\n",
    "finaldf=dftweets[dftweets['resp'] != 'martin']"
   ]
  },
  {
   "cell_type": "code",
   "execution_count": 60,
   "metadata": {
    "collapsed": false
   },
   "outputs": [
    {
     "data": {
      "text/plain": [
       "76937"
      ]
     },
     "execution_count": 60,
     "metadata": {},
     "output_type": "execute_result"
    }
   ],
   "source": [
    "len(finaldf)"
   ]
  },
  {
   "cell_type": "code",
   "execution_count": 61,
   "metadata": {
    "collapsed": false
   },
   "outputs": [
    {
     "data": {
      "text/plain": [
       "0.56435218883227622"
      ]
     },
     "execution_count": 61,
     "metadata": {},
     "output_type": "execute_result"
    }
   ],
   "source": [
    "# Here we look at our model training on all the data.\n",
    "y, X = dmatrices('hillary ~ hashtag_count + url_count + swear_count + emoji_count + emoticon_count\\\n",
    "                 + sentiment + sentiment_var', finaldf, return_type=\"dataframe\")\n",
    "y = np.ravel(y)\n",
    "model = LogisticRegression()\n",
    "model = model.fit(X, y)\n",
    "model.score(X, y)"
   ]
  },
  {
   "cell_type": "code",
   "execution_count": 62,
   "metadata": {
    "collapsed": true
   },
   "outputs": [],
   "source": [
    "# split data into a train and test set with 70% of data in train set\n",
    "itrain, itest = train_test_split(xrange(finaldf.shape[0]), train_size=0.7)"
   ]
  },
  {
   "cell_type": "code",
   "execution_count": 63,
   "metadata": {
    "collapsed": false
   },
   "outputs": [
    {
     "data": {
      "text/plain": [
       "((76937L,), 53855)"
      ]
     },
     "execution_count": 63,
     "metadata": {},
     "output_type": "execute_result"
    }
   ],
   "source": [
    "# Apply a mask to the dataframe to add the indication of train/test\n",
    "mask=np.ones(finaldf.shape[0], dtype='int')\n",
    "mask[itrain]=1\n",
    "mask[itest]=0\n",
    "mask = (mask==1)\n",
    "mask.shape, mask.sum()"
   ]
  },
  {
   "cell_type": "code",
   "execution_count": 64,
   "metadata": {
    "collapsed": true
   },
   "outputs": [],
   "source": [
    "traindf = finaldf[mask]\n",
    "testdf = finaldf[~mask]"
   ]
  },
  {
   "cell_type": "code",
   "execution_count": 65,
   "metadata": {
    "collapsed": true
   },
   "outputs": [],
   "source": [
    "# create dataframes with an intercept\n",
    "ytrain, Xtrain = dmatrices('hillary ~ hashtag_count + url_count + favorite_count + retweet_count + swear_count + emoji_count + emoticon_count\\\n",
    "                 + sentiment + sentiment_var', traindf, return_type=\"dataframe\")\n",
    "ytest, Xtest = dmatrices('hillary ~ hashtag_count + url_count + favorite_count + retweet_count + swear_count + emoji_count + emoticon_count\\\n",
    "                 + sentiment + sentiment_var', testdf, return_type=\"dataframe\")"
   ]
  },
  {
   "cell_type": "code",
   "execution_count": 66,
   "metadata": {
    "collapsed": true
   },
   "outputs": [],
   "source": [
    "# flatten the y-vars\n",
    "ytrain = np.ravel(ytrain)\n",
    "ytest = np.ravel(ytest)"
   ]
  },
  {
   "cell_type": "code",
   "execution_count": 67,
   "metadata": {
    "collapsed": false
   },
   "outputs": [
    {
     "data": {
      "text/plain": [
       "0.56138819771976078"
      ]
     },
     "execution_count": 67,
     "metadata": {},
     "output_type": "execute_result"
    }
   ],
   "source": [
    "# Create the model\n",
    "trainmodel = LogisticRegression()\n",
    "trainmodel = trainmodel.fit(Xtrain, ytrain)\n",
    "trainmodel.score(Xtrain, ytrain)"
   ]
  },
  {
   "cell_type": "code",
   "execution_count": 68,
   "metadata": {
    "collapsed": false
   },
   "outputs": [
    {
     "data": {
      "text/plain": [
       "0.56606879819772982"
      ]
     },
     "execution_count": 68,
     "metadata": {},
     "output_type": "execute_result"
    }
   ],
   "source": [
    "# Score of the model on the test vars\n",
    "trainmodel.score(Xtest, ytest)"
   ]
  },
  {
   "cell_type": "code",
   "execution_count": 69,
   "metadata": {
    "collapsed": false
   },
   "outputs": [
    {
     "data": {
      "text/plain": [
       "0.80469630014730098"
      ]
     },
     "execution_count": 69,
     "metadata": {},
     "output_type": "execute_result"
    }
   ],
   "source": [
    "# collect the predictions on the test set\n",
    "predicted = trainmodel.predict(Xtest)\n",
    "np.mean(predicted)"
   ]
  },
  {
   "cell_type": "code",
   "execution_count": 70,
   "metadata": {
    "collapsed": false
   },
   "outputs": [
    {
     "name": "stdout",
     "output_type": "stream",
     "text": [
      "[[ 0.36024769  0.63975231]\n",
      " [ 0.52484732  0.47515268]\n",
      " [ 0.42851093  0.57148907]\n",
      " ..., \n",
      " [ 0.32303214  0.67696786]\n",
      " [ 0.53700383  0.46299617]\n",
      " [ 0.48841322  0.51158678]]\n"
     ]
    }
   ],
   "source": [
    "# generate class probabilities\n",
    "probs = trainmodel.predict_proba(Xtest)\n",
    "print probs"
   ]
  },
  {
   "cell_type": "code",
   "execution_count": 71,
   "metadata": {
    "collapsed": false
   },
   "outputs": [
    {
     "name": "stdout",
     "output_type": "stream",
     "text": [
      "0.566068798198\n",
      "0.590481988364\n"
     ]
    }
   ],
   "source": [
    "# generate evaluation metrics\n",
    "print metrics.accuracy_score(ytest, predicted)\n",
    "print metrics.roc_auc_score(ytest, probs[:, 1])"
   ]
  },
  {
   "cell_type": "code",
   "execution_count": 72,
   "metadata": {
    "collapsed": false
   },
   "outputs": [
    {
     "name": "stdout",
     "output_type": "stream",
     "text": [
      "[[ 2662  8170]\n",
      " [ 1846 10404]]\n",
      "             precision    recall  f1-score   support\n",
      "\n",
      "        0.0       0.59      0.25      0.35     10832\n",
      "        1.0       0.56      0.85      0.68     12250\n",
      "\n",
      "avg / total       0.57      0.57      0.52     23082\n",
      "\n"
     ]
    }
   ],
   "source": [
    "# Confusion matrix\n",
    "print metrics.confusion_matrix(ytest, predicted)\n",
    "print metrics.classification_report(ytest, predicted)"
   ]
  },
  {
   "cell_type": "code",
   "execution_count": 73,
   "metadata": {
    "collapsed": false
   },
   "outputs": [
    {
     "data": {
      "text/plain": [
       "array([[  1.08104364e-01,  -1.54324635e-01,   5.37109308e-01,\n",
       "          7.23305774e-04,  -1.25845828e-04,   1.91795994e-01,\n",
       "         -1.30468376e-02,  -1.65068599e-01,  -8.12245800e-03,\n",
       "          1.36336716e-02]])"
      ]
     },
     "execution_count": 73,
     "metadata": {},
     "output_type": "execute_result"
    }
   ],
   "source": [
    "# Coeficients from the model\n",
    "trainmodel.coef_"
   ]
  },
  {
   "cell_type": "code",
   "execution_count": 74,
   "metadata": {
    "collapsed": false
   },
   "outputs": [],
   "source": [
    "# create dataframes with an intercept\n",
    "# this is the saturated model with all first-order interaction variables\n",
    "ytrain2, Xtrain2 = dmatrices('hillary ~ hashtag_count + url_count + favorite_count + retweet_count + swear_count + emoji_count + emoticon_count\\\n",
    "                 + sentiment + sentiment_var + hashtag_count*url_count + hashtag_count*retweet_count + hashtag_count*swear_count\\\n",
    "                 + hashtag_count*emoji_count + hashtag_count*emoticon_count + hashtag_count*sentiment + url_count*favorite_count\\\n",
    "                 +url_count*retweet_count + url_count*swear_count + url_count*emoji_count + url_count*emoticon_count + url_count*sentiment\\\n",
    "                 + favorite_count*swear_count + favorite_count*emoji_count + favorite_count*emoticon_count +favorite_count*sentiment\\\n",
    "                 + swear_count*emoji_count+swear_count*emoticon_count + swear_count * sentiment + emoji_count * emoticon_count\\\n",
    "                 + emoji_count * sentiment + emoji_count * sentiment_var + sentiment * sentiment_var', traindf, return_type=\"dataframe\")\n",
    "ytest2, Xtest2 = dmatrices('hillary ~ hashtag_count + url_count + favorite_count + retweet_count + swear_count + emoji_count + emoticon_count\\\n",
    "                 + sentiment + sentiment_var + hashtag_count*url_count + hashtag_count*retweet_count + hashtag_count*swear_count\\\n",
    "                 + hashtag_count*emoji_count + hashtag_count*emoticon_count + hashtag_count*sentiment + url_count*favorite_count\\\n",
    "                 +url_count*retweet_count + url_count*swear_count + url_count*emoji_count + url_count*emoticon_count + url_count*sentiment\\\n",
    "                 + favorite_count*swear_count + favorite_count*emoji_count + favorite_count*emoticon_count +favorite_count*sentiment\\\n",
    "                 + swear_count*emoji_count+swear_count*emoticon_count + swear_count * sentiment + emoji_count * emoticon_count\\\n",
    "                 + emoji_count * sentiment + emoji_count * sentiment_var + sentiment * sentiment_var', testdf, return_type=\"dataframe\")"
   ]
  },
  {
   "cell_type": "code",
   "execution_count": 75,
   "metadata": {
    "collapsed": true
   },
   "outputs": [],
   "source": [
    "# flatten the y-vars\n",
    "ytrain2 = np.ravel(ytrain2)\n",
    "ytest2 = np.ravel(ytest2)"
   ]
  },
  {
   "cell_type": "code",
   "execution_count": 76,
   "metadata": {
    "collapsed": false
   },
   "outputs": [
    {
     "data": {
      "text/plain": [
       "0.56112823559995539"
      ]
     },
     "execution_count": 76,
     "metadata": {},
     "output_type": "execute_result"
    }
   ],
   "source": [
    "# Create the model\n",
    "trainmodel2 = LogisticRegression()\n",
    "trainmodel2 = trainmodel2.fit(Xtrain2, ytrain2)\n",
    "trainmodel2.score(Xtrain2, ytrain2)"
   ]
  },
  {
   "cell_type": "code",
   "execution_count": 77,
   "metadata": {
    "collapsed": false
   },
   "outputs": [
    {
     "data": {
      "text/plain": [
       "0.56346937007191755"
      ]
     },
     "execution_count": 77,
     "metadata": {},
     "output_type": "execute_result"
    }
   ],
   "source": [
    "# Score of the model on the test vars\n",
    "trainmodel2.score(Xtest2, ytest2)"
   ]
  },
  {
   "cell_type": "code",
   "execution_count": 78,
   "metadata": {
    "collapsed": false
   },
   "outputs": [
    {
     "data": {
      "text/plain": [
       "0.81336106056667534"
      ]
     },
     "execution_count": 78,
     "metadata": {},
     "output_type": "execute_result"
    }
   ],
   "source": [
    "# collect the predictions on the test set\n",
    "predicted2 = trainmodel2.predict(Xtest2)\n",
    "np.mean(predicted2)"
   ]
  },
  {
   "cell_type": "code",
   "execution_count": 79,
   "metadata": {
    "collapsed": false
   },
   "outputs": [
    {
     "name": "stdout",
     "output_type": "stream",
     "text": [
      "[[ 0.35591196  0.64408804]\n",
      " [ 0.52805457  0.47194543]\n",
      " [ 0.40484061  0.59515939]\n",
      " ..., \n",
      " [ 0.33776046  0.66223954]\n",
      " [ 0.55990835  0.44009165]\n",
      " [ 0.47693812  0.52306188]]\n"
     ]
    }
   ],
   "source": [
    "# generate class probabilities\n",
    "probs2 = trainmodel2.predict_proba(Xtest2)\n",
    "print probs2"
   ]
  },
  {
   "cell_type": "code",
   "execution_count": 80,
   "metadata": {
    "collapsed": false
   },
   "outputs": [
    {
     "name": "stdout",
     "output_type": "stream",
     "text": [
      "0.563469370072\n",
      "0.59316345748\n"
     ]
    }
   ],
   "source": [
    "# generate evaluation metrics\n",
    "print metrics.accuracy_score(ytest2, predicted2)\n",
    "print metrics.roc_auc_score(ytest2, probs2[:, 1])"
   ]
  },
  {
   "cell_type": "code",
   "execution_count": 30,
   "metadata": {
    "collapsed": false
   },
   "outputs": [
    {
     "name": "stdout",
     "output_type": "stream",
     "text": [
      "[[ 2635  8321]\n",
      " [ 1843 10283]]\n",
      "             precision    recall  f1-score   support\n",
      "\n",
      "        0.0       0.59      0.24      0.34     10956\n",
      "        1.0       0.55      0.85      0.67     12126\n",
      "\n",
      "avg / total       0.57      0.56      0.51     23082\n",
      "\n"
     ]
    }
   ],
   "source": [
    "# Confusion matrix\n",
    "print metrics.confusion_matrix(ytest2, predicted2)\n",
    "print metrics.classification_report(ytest2, predicted2)"
   ]
  },
  {
   "cell_type": "code",
   "execution_count": 81,
   "metadata": {
    "collapsed": false
   },
   "outputs": [
    {
     "data": {
      "text/plain": [
       "array([[ -2.20587615e-02,   9.09685124e-02,   5.22360012e-01,\n",
       "         -2.86954734e-04,   9.60830789e-04,   1.58752244e-01,\n",
       "         -5.64280898e-01,  -4.41222431e-01,   4.73723196e-02,\n",
       "         -4.73902601e-02,   7.21852594e-02,  -2.19576675e-04,\n",
       "          7.57450070e-03,   9.28542380e-02,   2.51162115e-01,\n",
       "         -5.13196356e-02,  -6.98683574e-04,  -3.37558732e-03,\n",
       "         -1.38763370e-01,   4.14730066e-01,   8.01045933e-02,\n",
       "         -1.02943809e-02,   3.21321786e-04,   2.32337371e-02,\n",
       "         -7.58827238e-02,   1.39529992e-04,  -1.20468897e-01,\n",
       "          7.90039093e-01,   3.64892774e-03,  -4.38729096e-01,\n",
       "          6.46588618e-02,   1.02877059e-02,   1.20636938e-02]])"
      ]
     },
     "execution_count": 81,
     "metadata": {},
     "output_type": "execute_result"
    }
   ],
   "source": [
    "# Coeficients from the model\n",
    "trainmodel2.coef_"
   ]
  },
  {
   "cell_type": "code",
   "execution_count": null,
   "metadata": {
    "collapsed": true
   },
   "outputs": [],
   "source": []
  }
 ],
 "metadata": {
  "kernelspec": {
   "display_name": "Python 2",
   "language": "python",
   "name": "python2"
  },
  "language_info": {
   "codemirror_mode": {
    "name": "ipython",
    "version": 2
   },
   "file_extension": ".py",
   "mimetype": "text/x-python",
   "name": "python",
   "nbconvert_exporter": "python",
   "pygments_lexer": "ipython2",
   "version": "2.7.10"
  }
 },
 "nbformat": 4,
 "nbformat_minor": 0
}
