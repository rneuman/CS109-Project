{
 "cells": [
  {
   "cell_type": "code",
   "execution_count": 3,
   "metadata": {
    "collapsed": true
   },
   "outputs": [],
   "source": [
    "%matplotlib inline\n",
    "import numpy as np\n",
    "import scipy as sp\n",
    "import matplotlib as mpl\n",
    "import matplotlib.cm as cm\n",
    "import matplotlib.pyplot as plt\n",
    "import pandas as pd\n",
    "pd.set_option('display.width', 500)\n",
    "pd.set_option('display.max_columns', 100)\n",
    "pd.set_option('display.notebook_repr_html', True)\n",
    "import seaborn as sns\n",
    "sns.set_style(\"whitegrid\")\n",
    "sns.set_context(\"poster\")\n",
    "from sklearn.linear_model import LogisticRegression\n",
    "from sklearn.cross_validation import train_test_split\n",
    "from sklearn import metrics\n",
    "from sklearn.cross_validation import cross_val_score\n",
    "from patsy import dmatrices"
   ]
  },
  {
   "cell_type": "code",
   "execution_count": 5,
   "metadata": {
    "collapsed": false
   },
   "outputs": [],
   "source": [
    "dftweets=pd.read_csv(\"respvardf.csv\")\n"
   ]
  },
  {
   "cell_type": "code",
   "execution_count": 6,
   "metadata": {
    "collapsed": false
   },
   "outputs": [],
   "source": [
    "dftweets = dftweets.drop('Unnamed: 0.1', 1)\n",
    "dftweets = dftweets.drop('Unnamed: 0', 1)"
   ]
  },
  {
   "cell_type": "code",
   "execution_count": 7,
   "metadata": {
    "collapsed": false
   },
   "outputs": [
    {
     "data": {
      "text/plain": [
       "82794"
      ]
     },
     "execution_count": 7,
     "metadata": {},
     "output_type": "execute_result"
    }
   ],
   "source": [
    "len(dftweets)"
   ]
  },
  {
   "cell_type": "code",
   "execution_count": 8,
   "metadata": {
    "collapsed": false
   },
   "outputs": [],
   "source": [
    "# We decided to drop Martin O'Malley because there are so few tweets on him compared to the other candidates\n",
    "finaldf=dftweets[dftweets['resp'] != 'martin']"
   ]
  },
  {
   "cell_type": "code",
   "execution_count": 9,
   "metadata": {
    "collapsed": false
   },
   "outputs": [
    {
     "data": {
      "text/plain": [
       "76937"
      ]
     },
     "execution_count": 9,
     "metadata": {},
     "output_type": "execute_result"
    }
   ],
   "source": [
    "len(finaldf)"
   ]
  },
  {
   "cell_type": "code",
   "execution_count": 10,
   "metadata": {
    "collapsed": false
   },
   "outputs": [
    {
     "data": {
      "text/plain": [
       "0.56435218883227622"
      ]
     },
     "execution_count": 10,
     "metadata": {},
     "output_type": "execute_result"
    }
   ],
   "source": [
    "# Here we look at our model training on all the data.\n",
    "y, X = dmatrices('hillary ~ hashtag_count + url_count + swear_count + emoji_count + emoticon_count\\\n",
    "                 + sentiment + sentiment_var', finaldf, return_type=\"dataframe\")\n",
    "y = np.ravel(y)\n",
    "model = LogisticRegression()\n",
    "model = model.fit(X, y)\n",
    "model.score(X, y)"
   ]
  },
  {
   "cell_type": "code",
   "execution_count": 11,
   "metadata": {
    "collapsed": true
   },
   "outputs": [],
   "source": [
    "# split data into a train and test set with 70% of data in train set\n",
    "itrain, itest = train_test_split(xrange(finaldf.shape[0]), train_size=0.7)"
   ]
  },
  {
   "cell_type": "code",
   "execution_count": 12,
   "metadata": {
    "collapsed": false
   },
   "outputs": [
    {
     "data": {
      "text/plain": [
       "((76937L,), 53855)"
      ]
     },
     "execution_count": 12,
     "metadata": {},
     "output_type": "execute_result"
    }
   ],
   "source": [
    "# Apply a mask to the dataframe to add the indication of train/test\n",
    "mask=np.ones(finaldf.shape[0], dtype='int')\n",
    "mask[itrain]=1\n",
    "mask[itest]=0\n",
    "mask = (mask==1)\n",
    "mask.shape, mask.sum()"
   ]
  },
  {
   "cell_type": "code",
   "execution_count": 13,
   "metadata": {
    "collapsed": true
   },
   "outputs": [],
   "source": [
    "traindf = finaldf[mask]\n",
    "testdf = finaldf[~mask]"
   ]
  },
  {
   "cell_type": "code",
   "execution_count": 14,
   "metadata": {
    "collapsed": true
   },
   "outputs": [],
   "source": [
    "# create dataframes with an intercept\n",
    "ytrain, Xtrain = dmatrices('hillary ~ hashtag_count + url_count + favorite_count + retweet_count + swear_count + emoji_count + emoticon_count\\\n",
    "                 + sentiment + sentiment_var', traindf, return_type=\"dataframe\")\n",
    "ytest, Xtest = dmatrices('hillary ~ hashtag_count + url_count + favorite_count + retweet_count + swear_count + emoji_count + emoticon_count\\\n",
    "                 + sentiment + sentiment_var', testdf, return_type=\"dataframe\")"
   ]
  },
  {
   "cell_type": "code",
   "execution_count": 15,
   "metadata": {
    "collapsed": true
   },
   "outputs": [],
   "source": [
    "# flatten the y-vars\n",
    "ytrain = np.ravel(ytrain)\n",
    "ytest = np.ravel(ytest)"
   ]
  },
  {
   "cell_type": "code",
   "execution_count": 16,
   "metadata": {
    "collapsed": false
   },
   "outputs": [
    {
     "data": {
      "text/plain": [
       "0.56413636870056083"
      ]
     },
     "execution_count": 16,
     "metadata": {},
     "output_type": "execute_result"
    }
   ],
   "source": [
    "# Create the model\n",
    "trainmodel = LogisticRegression()\n",
    "trainmodel = trainmodel.fit(Xtrain, ytrain)\n",
    "trainmodel.score(Xtrain, ytrain)"
   ]
  },
  {
   "cell_type": "code",
   "execution_count": 17,
   "metadata": {
    "collapsed": false
   },
   "outputs": [
    {
     "data": {
      "text/plain": [
       "0.56000346590416772"
      ]
     },
     "execution_count": 17,
     "metadata": {},
     "output_type": "execute_result"
    }
   ],
   "source": [
    "# Score of the model on the test vars\n",
    "trainmodel.score(Xtest, ytest)"
   ]
  },
  {
   "cell_type": "code",
   "execution_count": 18,
   "metadata": {
    "collapsed": false
   },
   "outputs": [
    {
     "data": {
      "text/plain": [
       "0.80235681483406984"
      ]
     },
     "execution_count": 18,
     "metadata": {},
     "output_type": "execute_result"
    }
   ],
   "source": [
    "# collect the predictions on the test set\n",
    "predicted = trainmodel.predict(Xtest)\n",
    "np.mean(predicted)"
   ]
  },
  {
   "cell_type": "code",
   "execution_count": 19,
   "metadata": {
    "collapsed": false
   },
   "outputs": [
    {
     "name": "stdout",
     "output_type": "stream",
     "text": [
      "[[ 0.32402024  0.67597976]\n",
      " [ 0.35527055  0.64472945]\n",
      " [ 0.46798642  0.53201358]\n",
      " ..., \n",
      " [ 0.48225114  0.51774886]\n",
      " [ 0.49041347  0.50958653]\n",
      " [ 0.31527508  0.68472492]]\n"
     ]
    }
   ],
   "source": [
    "# generate class probabilities\n",
    "probs = trainmodel.predict_proba(Xtest)\n",
    "print probs"
   ]
  },
  {
   "cell_type": "code",
   "execution_count": 20,
   "metadata": {
    "collapsed": false
   },
   "outputs": [
    {
     "name": "stdout",
     "output_type": "stream",
     "text": [
      "0.560003465904\n",
      "0.582572493052\n"
     ]
    }
   ],
   "source": [
    "# generate evaluation metrics\n",
    "print metrics.accuracy_score(ytest, predicted)\n",
    "print metrics.roc_auc_score(ytest, probs[:, 1])"
   ]
  },
  {
   "cell_type": "code",
   "execution_count": 21,
   "metadata": {
    "collapsed": false
   },
   "outputs": [
    {
     "name": "stdout",
     "output_type": "stream",
     "text": [
      "[[ 2681  8275]\n",
      " [ 1881 10245]]\n",
      "             precision    recall  f1-score   support\n",
      "\n",
      "        0.0       0.59      0.24      0.35     10956\n",
      "        1.0       0.55      0.84      0.67     12126\n",
      "\n",
      "avg / total       0.57      0.56      0.52     23082\n",
      "\n"
     ]
    }
   ],
   "source": [
    "# Confusion matrix\n",
    "print metrics.confusion_matrix(ytest, predicted)\n",
    "print metrics.classification_report(ytest, predicted)"
   ]
  },
  {
   "cell_type": "code",
   "execution_count": 22,
   "metadata": {
    "collapsed": false
   },
   "outputs": [
    {
     "data": {
      "text/plain": [
       "array([[  1.32342212e-01,  -1.61918636e-01,   5.52518391e-01,\n",
       "         -2.10988906e-04,   1.21943618e-03,   2.31168892e-01,\n",
       "         -1.81389399e-02,  -2.15070308e-01,  -1.33316277e-02,\n",
       "          1.02740520e-02]])"
      ]
     },
     "execution_count": 22,
     "metadata": {},
     "output_type": "execute_result"
    }
   ],
   "source": [
    "# Coeficients from the model\n",
    "trainmodel.coef_"
   ]
  },
  {
   "cell_type": "code",
   "execution_count": 23,
   "metadata": {
    "collapsed": false
   },
   "outputs": [],
   "source": [
    "# create dataframes with an intercept\n",
    "# this is the saturated model with all first-order interaction variables\n",
    "ytrain2, Xtrain2 = dmatrices('hillary ~ hashtag_count + url_count + favorite_count + retweet_count + swear_count + emoji_count + emoticon_count\\\n",
    "                 + sentiment + sentiment_var + hashtag_count*url_count + hashtag_count*retweet_count + hashtag_count*swear_count\\\n",
    "                 + hashtag_count*emoji_count + hashtag_count*emoticon_count + hashtag_count*sentiment + url_count*favorite_count\\\n",
    "                 +url_count*retweet_count + url_count*swear_count + url_count*emoji_count + url_count*emoticon_count + url_count*sentiment\\\n",
    "                 + favorite_count*swear_count + favorite_count*emoji_count + favorite_count*emoticon_count +favorite_count*sentiment\\\n",
    "                 + swear_count*emoji_count+swear_count*emoticon_count + swear_count * sentiment + emoji_count * emoticon_count\\\n",
    "                 + emoji_count * sentiment + emoji_count * sentiment_var + sentiment * sentiment_var', traindf, return_type=\"dataframe\")\n",
    "ytest2, Xtest2 = dmatrices('hillary ~ hashtag_count + url_count + favorite_count + retweet_count + swear_count + emoji_count + emoticon_count\\\n",
    "                 + sentiment + sentiment_var + hashtag_count*url_count + hashtag_count*retweet_count + hashtag_count*swear_count\\\n",
    "                 + hashtag_count*emoji_count + hashtag_count*emoticon_count + hashtag_count*sentiment + url_count*favorite_count\\\n",
    "                 +url_count*retweet_count + url_count*swear_count + url_count*emoji_count + url_count*emoticon_count + url_count*sentiment\\\n",
    "                 + favorite_count*swear_count + favorite_count*emoji_count + favorite_count*emoticon_count +favorite_count*sentiment\\\n",
    "                 + swear_count*emoji_count+swear_count*emoticon_count + swear_count * sentiment + emoji_count * emoticon_count\\\n",
    "                 + emoji_count * sentiment + emoji_count * sentiment_var + sentiment * sentiment_var', testdf, return_type=\"dataframe\")"
   ]
  },
  {
   "cell_type": "code",
   "execution_count": 24,
   "metadata": {
    "collapsed": true
   },
   "outputs": [],
   "source": [
    "# flatten the y-vars\n",
    "ytrain2 = np.ravel(ytrain2)\n",
    "ytest2 = np.ravel(ytest2)"
   ]
  },
  {
   "cell_type": "code",
   "execution_count": 25,
   "metadata": {
    "collapsed": false
   },
   "outputs": [
    {
     "data": {
      "text/plain": [
       "0.56439633082036622"
      ]
     },
     "execution_count": 25,
     "metadata": {},
     "output_type": "execute_result"
    }
   ],
   "source": [
    "# Create the model\n",
    "trainmodel2 = LogisticRegression()\n",
    "trainmodel2 = trainmodel2.fit(Xtrain2, ytrain2)\n",
    "trainmodel2.score(Xtrain2, ytrain2)"
   ]
  },
  {
   "cell_type": "code",
   "execution_count": 26,
   "metadata": {
    "collapsed": false
   },
   "outputs": [
    {
     "data": {
      "text/plain": [
       "0.55965687548739274"
      ]
     },
     "execution_count": 26,
     "metadata": {},
     "output_type": "execute_result"
    }
   ],
   "source": [
    "# Score of the model on the test vars\n",
    "trainmodel2.score(Xtest2, ytest2)"
   ]
  },
  {
   "cell_type": "code",
   "execution_count": 27,
   "metadata": {
    "collapsed": false
   },
   "outputs": [
    {
     "data": {
      "text/plain": [
       "0.80599601421020706"
      ]
     },
     "execution_count": 27,
     "metadata": {},
     "output_type": "execute_result"
    }
   ],
   "source": [
    "# collect the predictions on the test set\n",
    "predicted2 = trainmodel2.predict(Xtest2)\n",
    "np.mean(predicted2)"
   ]
  },
  {
   "cell_type": "code",
   "execution_count": 28,
   "metadata": {
    "collapsed": false
   },
   "outputs": [
    {
     "name": "stdout",
     "output_type": "stream",
     "text": [
      "[[ 0.32085516  0.67914484]\n",
      " [ 0.34851148  0.65148852]\n",
      " [ 0.4313344   0.5686656 ]\n",
      " ..., \n",
      " [ 0.46490426  0.53509574]\n",
      " [ 0.48076799  0.51923201]\n",
      " [ 0.30734291  0.69265709]]\n"
     ]
    }
   ],
   "source": [
    "# generate class probabilities\n",
    "probs2 = trainmodel2.predict_proba(Xtest2)\n",
    "print probs2"
   ]
  },
  {
   "cell_type": "code",
   "execution_count": 29,
   "metadata": {
    "collapsed": false
   },
   "outputs": [
    {
     "name": "stdout",
     "output_type": "stream",
     "text": [
      "0.559656875487\n",
      "0.583895833284\n"
     ]
    }
   ],
   "source": [
    "# generate evaluation metrics\n",
    "print metrics.accuracy_score(ytest2, predicted2)\n",
    "print metrics.roc_auc_score(ytest2, probs2[:, 1])"
   ]
  },
  {
   "cell_type": "code",
   "execution_count": 30,
   "metadata": {
    "collapsed": false
   },
   "outputs": [
    {
     "name": "stdout",
     "output_type": "stream",
     "text": [
      "[[ 2635  8321]\n",
      " [ 1843 10283]]\n",
      "             precision    recall  f1-score   support\n",
      "\n",
      "        0.0       0.59      0.24      0.34     10956\n",
      "        1.0       0.55      0.85      0.67     12126\n",
      "\n",
      "avg / total       0.57      0.56      0.51     23082\n",
      "\n"
     ]
    }
   ],
   "source": [
    "# Confusion matrix\n",
    "print metrics.confusion_matrix(ytest2, predicted2)\n",
    "print metrics.classification_report(ytest2, predicted2)"
   ]
  },
  {
   "cell_type": "code",
   "execution_count": 31,
   "metadata": {
    "collapsed": false
   },
   "outputs": [
    {
     "data": {
      "text/plain": [
       "array([[  3.59282764e-02,   4.41364134e-02,   4.01664292e-01,\n",
       "         -2.48340887e-03,   4.80808477e-03,   2.56909596e-01,\n",
       "         -4.44901268e-01,  -3.29456278e-01,   2.87193596e-02,\n",
       "         -6.26556773e-02,   6.98933561e-02,  -8.40929147e-04,\n",
       "          4.60988807e-02,   4.98265679e-02,   1.30120369e-01,\n",
       "         -4.34371994e-02,   2.67311453e-03,  -8.56384026e-03,\n",
       "         -2.37282523e-01,   2.67146646e-01,   1.44612268e-01,\n",
       "          1.60494633e-02,   8.50210942e-04,   4.90615370e-02,\n",
       "         -9.47340338e-02,   1.74993573e-04,  -1.11975938e-01,\n",
       "          2.54259515e-01,  -1.66777849e-02,  -4.02440928e-01,\n",
       "          5.01923778e-02,  -4.53958528e-03,   1.45782835e-02]])"
      ]
     },
     "execution_count": 31,
     "metadata": {},
     "output_type": "execute_result"
    }
   ],
   "source": [
    "# Coeficients from the model\n",
    "trainmodel2.coef_"
   ]
  },
  {
   "cell_type": "code",
   "execution_count": null,
   "metadata": {
    "collapsed": true
   },
   "outputs": [],
   "source": []
  }
 ],
 "metadata": {
  "kernelspec": {
   "display_name": "Python 2",
   "language": "python",
   "name": "python2"
  },
  "language_info": {
   "codemirror_mode": {
    "name": "ipython",
    "version": 2
   },
   "file_extension": ".py",
   "mimetype": "text/x-python",
   "name": "python",
   "nbconvert_exporter": "python",
   "pygments_lexer": "ipython2",
   "version": "2.7.10"
  }
 },
 "nbformat": 4,
 "nbformat_minor": 0
}
